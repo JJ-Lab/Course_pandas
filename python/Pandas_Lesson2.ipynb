{
 "cells": [
  {
   "cell_type": "markdown",
   "id": "730c993d",
   "metadata": {},
   "source": [
    "<h1 align=center id=\"data_acquisition\"> Data types</h1>\n",
    "<div class=\"alert alert-block alert-info\" style=\"margin-top: 20px\">\n",
    "    \n",
    "<p>\n",
    "Data types are one of those things that you don’t tend to care about (if the dataframe is built correctly) until you get an error or some unexpected results. It is also one of the first things you should check once you load a new data into pandas for further analysis."
   ]
  },
  {
   "cell_type": "code",
   "execution_count": 1,
   "id": "bf7aefe4",
   "metadata": {},
   "outputs": [],
   "source": [
    "import pandas as pd"
   ]
  },
  {
   "cell_type": "code",
   "execution_count": null,
   "id": "8b668cf7",
   "metadata": {},
   "outputs": [],
   "source": [
    "df = pd.read_excel('datos_auto2.xlsx')"
   ]
  },
  {
   "cell_type": "code",
   "execution_count": null,
   "id": "c244d19f",
   "metadata": {
    "scrolled": true
   },
   "outputs": [],
   "source": [
    "df.head()"
   ]
  },
  {
   "cell_type": "code",
   "execution_count": null,
   "id": "9b1aed6b",
   "metadata": {},
   "outputs": [],
   "source": [
    "df.describe()\n",
    "# df.describe(include = \"all\")"
   ]
  },
  {
   "cell_type": "code",
   "execution_count": null,
   "id": "f6a7fc8a",
   "metadata": {},
   "outputs": [],
   "source": [
    "del df['Unnamed: 0']"
   ]
  },
  {
   "cell_type": "markdown",
   "id": "8e1b4d33",
   "metadata": {},
   "source": [
    "<div class=\"alert alert-block alert-info\" style=\"margin-top: 20px\">\n",
    "    There are basically 5 types of data:\n",
    "<ul>\n",
    "    <li> <b>int64</b>, Integer numbers</li>\n",
    "    <li> <b>float64</b>, Floating point numbers </li>\n",
    "    <li> <b>object</b>, Text or mixed numeric and non-numeric values</li>\n",
    "    <li> <b>bool</b>, True/False values</li>\n",
    "    <li> <b>datetime64</b>, Date and time values </li>\n",
    "</ul></b>"
   ]
  },
  {
   "cell_type": "code",
   "execution_count": null,
   "id": "4b4eae3e",
   "metadata": {
    "scrolled": false
   },
   "outputs": [],
   "source": [
    "df.dtypes"
   ]
  },
  {
   "cell_type": "code",
   "execution_count": null,
   "id": "7d07c3d9",
   "metadata": {
    "scrolled": true
   },
   "outputs": [],
   "source": [
    "df.info()"
   ]
  },
  {
   "cell_type": "markdown",
   "id": "35a05464",
   "metadata": {},
   "source": [
    "<div class=\"alert alert-block alert-info\" style=\"margin-top: 20px\">\n",
    "    <b>astype()</b>, change the data type of a column (NOTE: the output is a <i>view</i>, you must assign the output to the column)"
   ]
  },
  {
   "cell_type": "code",
   "execution_count": null,
   "id": "54b4827a",
   "metadata": {},
   "outputs": [],
   "source": [
    "df['highway-mpg'].astype('float64')\n",
    "# df['city-mpg'] = df['city-mpg'].astype('float64')\n",
    "df['highway-mpg'].dtype"
   ]
  },
  {
   "cell_type": "code",
   "execution_count": null,
   "id": "068a44c3",
   "metadata": {},
   "outputs": [],
   "source": [
    "# A type ‘O’ just stands for “object” \n",
    "df['body-style'].dtype"
   ]
  },
  {
   "cell_type": "code",
   "execution_count": null,
   "id": "e8ffdcd0",
   "metadata": {},
   "outputs": [],
   "source": [
    "df['city-L/100km']"
   ]
  },
  {
   "cell_type": "markdown",
   "id": "d34cf2de",
   "metadata": {},
   "source": [
    "<div class=\"alert alert-block alert-info\" style=\"margin-top: 20px\">\n",
    "    <b>Change column values</b>"
   ]
  },
  {
   "cell_type": "code",
   "execution_count": null,
   "id": "b073fb41",
   "metadata": {},
   "outputs": [],
   "source": [
    "# 1 mpg =  235,215 L/100km\n",
    "df['city-L/100km']\n",
    "df['city-L/100km'] = 235.215 / df['city-mpg']\n",
    "df['city-L/100km']"
   ]
  },
  {
   "cell_type": "markdown",
   "id": "0668fc30",
   "metadata": {},
   "source": [
    "<div class=\"alert alert-block alert-info\" style=\"margin-top: 20px\">\n",
    "    <b>Change column names</b>"
   ]
  },
  {
   "cell_type": "code",
   "execution_count": null,
   "id": "ad10ac6f",
   "metadata": {},
   "outputs": [],
   "source": [
    "# Bad column name (return a new DataFrame)\n",
    "df.rename(columns={'height':'height(in)'}, inplace=True)\n",
    "df.columns"
   ]
  },
  {
   "cell_type": "markdown",
   "id": "c1e2c83b",
   "metadata": {},
   "source": [
    "<div class=\"alert alert-block alert-info\" style=\"margin-top: 20px\">\n",
    "<h2> Missing Data</h2>\n",
    "    \n",
    "As data comes in many shapes and forms, pandas aims to be flexible with regard to handling missing data. While NaN is the default missing value marker for reasons of computational speed and convenience, we need to be able to easily detect this value with data of different types: floating point, integer, boolean, and general object.\n",
    "    \n",
    "\n",
    "<ul>\n",
    "    <li> <b>NaN</b>, Not a Number</li>\n",
    "    <li> <b>NaT</b>, Not a Time </li>\n",
    "</ul>\n",
    "<p>\n",
    "    <h4> NA handling methods:</h4>\n",
    "<ul>\n",
    "    <li> <b>isna()</b>, return like-type object containing boolean values indicanting which values are missing /NA (it can also be referred to as <b>isnull()</b>, but in numpy is <b>isnan()</b>)</li>\n",
    "    <li> <b>notna()</b>, the negation of <i>isnull</i> (also referred to as <b>notnull()</b>)</li>\n",
    "    <li> <b>dropna()</b>, filter axis labels based on whether values for each label have missing data </li>\n",
    "    <li> <b>fillna()</b>, fill in missing data with a constant value or the previous (<i>method='ffill'</i>), or the next value (<i>method='bfill'</i>) </li>\n",
    "</ul>    "
   ]
  },
  {
   "cell_type": "code",
   "execution_count": null,
   "id": "6c282922",
   "metadata": {},
   "outputs": [],
   "source": []
  },
  {
   "cell_type": "code",
   "execution_count": null,
   "id": "2b8341f6",
   "metadata": {},
   "outputs": [],
   "source": [
    "df.loc[9]"
   ]
  },
  {
   "cell_type": "code",
   "execution_count": null,
   "id": "158e627e",
   "metadata": {
    "scrolled": true
   },
   "outputs": [],
   "source": [
    "df.loc[9,'num-of-doors']"
   ]
  },
  {
   "cell_type": "code",
   "execution_count": null,
   "id": "32690d8e",
   "metadata": {},
   "outputs": [],
   "source": [
    "df.loc[df['num-of-doors']=='two','price']"
   ]
  },
  {
   "cell_type": "markdown",
   "id": "d44d4645",
   "metadata": {},
   "source": [
    "<div class=\"alert alert-block alert-info\" style=\"margin-top: 20px\">\n",
    "\n",
    "<h2> Warning</h2>\n",
    "    \n",
    "One has to be mindful that in Python (and NumPy), the nan's don’t compare equal, but None's do. Note that pandas/NumPy uses the fact that np.nan != np.nan, and treats None like np.nan.\n"
   ]
  },
  {
   "cell_type": "code",
   "execution_count": null,
   "id": "ad18e981",
   "metadata": {},
   "outputs": [],
   "source": [
    "import numpy as np\n",
    "np.nan == np.nan"
   ]
  },
  {
   "cell_type": "code",
   "execution_count": null,
   "id": "285c52a4",
   "metadata": {},
   "outputs": [],
   "source": [
    "df.loc[:10,['num-of-doors', 'city-mpg']].isna()"
   ]
  },
  {
   "cell_type": "code",
   "execution_count": null,
   "id": "72927c91",
   "metadata": {},
   "outputs": [],
   "source": [
    "df.loc[:10,['num-of-doors', 'city-mpg']].notna()"
   ]
  },
  {
   "cell_type": "code",
   "execution_count": null,
   "id": "e773f03c",
   "metadata": {},
   "outputs": [],
   "source": [
    "## Bad solution\n",
    "df.loc[:10,['num-of-doors', 'city-mpg']]==np.nan"
   ]
  },
  {
   "cell_type": "code",
   "execution_count": null,
   "id": "b4e4fca0",
   "metadata": {},
   "outputs": [],
   "source": [
    "df_doors = df[df['num-of-doors'].notna()]\n",
    "df_doors.head(10)"
   ]
  },
  {
   "cell_type": "code",
   "execution_count": null,
   "id": "01907a76",
   "metadata": {},
   "outputs": [],
   "source": []
  },
  {
   "cell_type": "code",
   "execution_count": null,
   "id": "a4c13d47",
   "metadata": {},
   "outputs": [],
   "source": []
  },
  {
   "cell_type": "markdown",
   "id": "88d206bc",
   "metadata": {},
   "source": [
    "<div class=\"alert alert-block alert-info\" style=\"margin-top: 20px\">\n",
    "\n",
    "With DataFrame objects you may want to <b>drop</b> rows or columns which are all NA of just those containing any NAs"
   ]
  },
  {
   "cell_type": "code",
   "execution_count": null,
   "id": "860e8744",
   "metadata": {},
   "outputs": [],
   "source": [
    "import numpy as np\n",
    "nan = np.nan"
   ]
  },
  {
   "cell_type": "code",
   "execution_count": null,
   "id": "406b7182",
   "metadata": {},
   "outputs": [],
   "source": [
    "type(nan)"
   ]
  },
  {
   "cell_type": "code",
   "execution_count": null,
   "id": "5a7956d2",
   "metadata": {},
   "outputs": [],
   "source": [
    "df2 = pd.DataFrame([[1.0, 2.4, 0.35],[0.5,nan, 2.7],[nan, nan, nan],[nan, 6.5, 2.1]])\n",
    "df2"
   ]
  },
  {
   "cell_type": "code",
   "execution_count": null,
   "id": "7b74363a",
   "metadata": {},
   "outputs": [],
   "source": [
    "df2.dropna()"
   ]
  },
  {
   "cell_type": "code",
   "execution_count": null,
   "id": "a03fb555",
   "metadata": {},
   "outputs": [],
   "source": [
    "df2.dropna(how='all')"
   ]
  },
  {
   "cell_type": "code",
   "execution_count": null,
   "id": "afe19a92",
   "metadata": {},
   "outputs": [],
   "source": []
  },
  {
   "cell_type": "markdown",
   "id": "47e11a52",
   "metadata": {},
   "source": [
    "<div class=\"alert alert-block alert-info\" style=\"margin-top: 20px\">\n",
    "\n",
    "Dropping columns in the same way with a parameter: <i>axis=1</i> or <i>axis='columns'</i>"
   ]
  },
  {
   "cell_type": "code",
   "execution_count": null,
   "id": "02c42f74",
   "metadata": {},
   "outputs": [],
   "source": [
    "df2.dropna(how='all', axis='columns')"
   ]
  },
  {
   "cell_type": "code",
   "execution_count": null,
   "id": "64d226d4",
   "metadata": {},
   "outputs": [],
   "source": []
  },
  {
   "cell_type": "markdown",
   "id": "8c8772d5",
   "metadata": {},
   "source": [
    "<div class=\"alert alert-block alert-info\" style=\"margin-top: 20px\">\n",
    "\n",
    "Keeping row/columns with a minimum number of observations: <b>.dropna</b>(<i>thresh=n</i>)"
   ]
  },
  {
   "cell_type": "code",
   "execution_count": null,
   "id": "f9626ccc",
   "metadata": {},
   "outputs": [],
   "source": [
    "df2.dropna(axis=1, thresh=3)"
   ]
  },
  {
   "cell_type": "code",
   "execution_count": null,
   "id": "b7ba9918",
   "metadata": {},
   "outputs": [],
   "source": []
  },
  {
   "cell_type": "code",
   "execution_count": null,
   "id": "eaa415ec",
   "metadata": {},
   "outputs": [],
   "source": []
  },
  {
   "cell_type": "code",
   "execution_count": null,
   "id": "78dd90b1",
   "metadata": {},
   "outputs": [],
   "source": [
    "df_doors['hybrid'].isna().count()"
   ]
  },
  {
   "cell_type": "code",
   "execution_count": null,
   "id": "52521491",
   "metadata": {},
   "outputs": [],
   "source": [
    "df_doors2 = df_doors.drop('hybrid', axis=1)"
   ]
  },
  {
   "cell_type": "code",
   "execution_count": null,
   "id": "0aa789c9",
   "metadata": {},
   "outputs": [],
   "source": [
    "df_doors2.columns"
   ]
  },
  {
   "cell_type": "code",
   "execution_count": null,
   "id": "c90e71f3",
   "metadata": {},
   "outputs": [],
   "source": [
    "df_doors2.head(10)"
   ]
  },
  {
   "cell_type": "markdown",
   "id": "16f38e09",
   "metadata": {},
   "source": [
    "<div class=\"alert alert-block alert-info\" style=\"margin-top: 20px\">\n",
    "\n",
    "<h3>Filling in Missing Data </h3>\n",
    "    \n",
    "Rather than filtering out missing data, you may want to fill in the \"holes\" with a constant value or by the previous value ('ffill') or the next value ('bfill'). This method is only valid for columns."
   ]
  },
  {
   "cell_type": "code",
   "execution_count": null,
   "id": "e36db0c3",
   "metadata": {},
   "outputs": [],
   "source": [
    "df2b = df2.copy()"
   ]
  },
  {
   "cell_type": "code",
   "execution_count": null,
   "id": "cfda6d8b",
   "metadata": {},
   "outputs": [],
   "source": [
    "df2.fillna(0)"
   ]
  },
  {
   "cell_type": "code",
   "execution_count": null,
   "id": "d6964b3d",
   "metadata": {},
   "outputs": [],
   "source": [
    "df2"
   ]
  },
  {
   "cell_type": "code",
   "execution_count": null,
   "id": "f9e2e327",
   "metadata": {},
   "outputs": [],
   "source": [
    "df2b.fillna(0, inplace=True)\n",
    "df2b"
   ]
  },
  {
   "cell_type": "code",
   "execution_count": null,
   "id": "4ab4c524",
   "metadata": {},
   "outputs": [],
   "source": [
    "#limit the number of replacements\n",
    "df2.fillna(axis=0, method='ffill', limit=1)"
   ]
  },
  {
   "cell_type": "code",
   "execution_count": null,
   "id": "09cd58b8",
   "metadata": {},
   "outputs": [],
   "source": [
    "df2.fillna(df2.mean())"
   ]
  },
  {
   "cell_type": "code",
   "execution_count": null,
   "id": "8c8f91a4",
   "metadata": {},
   "outputs": [],
   "source": [
    "df2"
   ]
  },
  {
   "cell_type": "code",
   "execution_count": null,
   "id": "9ff6b064",
   "metadata": {},
   "outputs": [],
   "source": []
  },
  {
   "cell_type": "code",
   "execution_count": null,
   "id": "330a61cb",
   "metadata": {},
   "outputs": [],
   "source": []
  },
  {
   "cell_type": "code",
   "execution_count": null,
   "id": "f8225f4b",
   "metadata": {},
   "outputs": [],
   "source": []
  },
  {
   "cell_type": "markdown",
   "id": "f5f5ca25",
   "metadata": {},
   "source": [
    "<div class=\"alert alert-block alert-info\" style=\"margin-top: 20px\">\n",
    "\n",
    "Handling a large database..."
   ]
  },
  {
   "cell_type": "code",
   "execution_count": 3,
   "id": "abc1b29b",
   "metadata": {
    "scrolled": true
   },
   "outputs": [],
   "source": [
    "# df0 = pd.read_csv('data\\OpenFoodFacts\\en.openfoodfacts.org.products.tsv', sep='\\t')\n",
    "# DtypeWarning: Columns (0,3,5,19,20,24,25,26,27,28,36,37,38,39,48) have mixed types\n",
    "# Da error porque hay tipos mezclados!!!!\n",
    "# \n",
    "df0 = pd.read_csv('data\\OpenFoodFacts\\en.openfoodfacts.org.products.tsv', sep='\\t', dtype=str)"
   ]
  },
  {
   "cell_type": "markdown",
   "id": "eb1b1ea1",
   "metadata": {},
   "source": [
    "<div class=\"alert alert-block alert-info\" style=\"margin-top: 20px\">\n",
    "\n",
    "¡¡ OJO !! Todas las columnas son de tipo \"Strig\""
   ]
  },
  {
   "cell_type": "code",
   "execution_count": null,
   "id": "2e833380",
   "metadata": {},
   "outputs": [],
   "source": [
    "# for i in range(len(df0.columns)):\n",
    "#     print(df0.dtypes[i] )"
   ]
  },
  {
   "cell_type": "code",
   "execution_count": 4,
   "id": "401b093a",
   "metadata": {
    "scrolled": true
   },
   "outputs": [
    {
     "data": {
      "text/plain": [
       "Index(['code', 'url', 'creator', 'created_t', 'created_datetime',\n",
       "       'last_modified_t', 'last_modified_datetime', 'product_name',\n",
       "       'generic_name', 'quantity', 'packaging', 'packaging_tags', 'brands',\n",
       "       'brands_tags', 'categories', 'categories_tags', 'categories_en',\n",
       "       'origins', 'origins_tags', 'manufacturing_places',\n",
       "       'manufacturing_places_tags', 'labels', 'labels_tags', 'labels_en',\n",
       "       'emb_codes', 'emb_codes_tags', 'first_packaging_code_geo', 'cities',\n",
       "       'cities_tags', 'purchase_places', 'stores', 'countries',\n",
       "       'countries_tags', 'countries_en', 'ingredients_text', 'allergens',\n",
       "       'allergens_en', 'traces', 'traces_tags', 'traces_en', 'serving_size',\n",
       "       'no_nutriments', 'additives_n', 'additives', 'additives_tags',\n",
       "       'additives_en', 'ingredients_from_palm_oil_n',\n",
       "       'ingredients_from_palm_oil', 'ingredients_from_palm_oil_tags',\n",
       "       'ingredients_that_may_be_from_palm_oil_n',\n",
       "       'ingredients_that_may_be_from_palm_oil',\n",
       "       'ingredients_that_may_be_from_palm_oil_tags', 'nutrition_grade_uk',\n",
       "       'nutrition_grade_fr', 'pnns_groups_1', 'pnns_groups_2', 'states',\n",
       "       'states_tags', 'states_en', 'main_category', 'main_category_en',\n",
       "       'image_url', 'image_small_url', 'energy_100g', 'energy-from-fat_100g',\n",
       "       'fat_100g', 'saturated-fat_100g', '-butyric-acid_100g',\n",
       "       '-caproic-acid_100g', '-caprylic-acid_100g', '-capric-acid_100g',\n",
       "       '-lauric-acid_100g', '-myristic-acid_100g', '-palmitic-acid_100g',\n",
       "       '-stearic-acid_100g', '-arachidic-acid_100g', '-behenic-acid_100g',\n",
       "       '-lignoceric-acid_100g', '-cerotic-acid_100g', '-montanic-acid_100g',\n",
       "       '-melissic-acid_100g', 'monounsaturated-fat_100g',\n",
       "       'polyunsaturated-fat_100g', 'omega-3-fat_100g',\n",
       "       '-alpha-linolenic-acid_100g', '-eicosapentaenoic-acid_100g',\n",
       "       '-docosahexaenoic-acid_100g', 'omega-6-fat_100g', '-linoleic-acid_100g',\n",
       "       '-arachidonic-acid_100g'],\n",
       "      dtype='object')"
      ]
     },
     "execution_count": 4,
     "metadata": {},
     "output_type": "execute_result"
    }
   ],
   "source": [
    "df0.columns[:90]"
   ]
  },
  {
   "cell_type": "code",
   "execution_count": 5,
   "id": "1c981a3e",
   "metadata": {},
   "outputs": [
    {
     "data": {
      "text/plain": [
       "0          NaN\n",
       "1         2243\n",
       "2         1941\n",
       "3         2540\n",
       "4         1552\n",
       "          ... \n",
       "356022       0\n",
       "356023     NaN\n",
       "356024     NaN\n",
       "356025     NaN\n",
       "356026    2092\n",
       "Name: energy_100g, Length: 356027, dtype: object"
      ]
     },
     "execution_count": 5,
     "metadata": {},
     "output_type": "execute_result"
    }
   ],
   "source": [
    "#Buscamos los que realmente son alimentos (energy_100g != NaN)\n",
    "df0['energy_100g']"
   ]
  },
  {
   "cell_type": "code",
   "execution_count": 6,
   "id": "2a6b9f6b",
   "metadata": {},
   "outputs": [
    {
     "data": {
      "text/plain": [
       "295367"
      ]
     },
     "execution_count": 6,
     "metadata": {},
     "output_type": "execute_result"
    }
   ],
   "source": [
    "df0['energy_100g'].count()"
   ]
  },
  {
   "cell_type": "code",
   "execution_count": 7,
   "id": "f24316c5",
   "metadata": {},
   "outputs": [],
   "source": [
    "df1 = df0.copy()"
   ]
  },
  {
   "cell_type": "code",
   "execution_count": 8,
   "id": "fbfb9b7e",
   "metadata": {},
   "outputs": [
    {
     "data": {
      "text/plain": [
       "Int64Index([     0,     25,     46,     47,     49,     51,     73,     99,\n",
       "               108,    138,\n",
       "            ...\n",
       "            356014, 356015, 356016, 356018, 356019, 356020, 356021, 356023,\n",
       "            356024, 356025],\n",
       "           dtype='int64', length=60660)"
      ]
     },
     "execution_count": 8,
     "metadata": {},
     "output_type": "execute_result"
    }
   ],
   "source": [
    "ind_zero = df1[df1['energy_100g'].isna()].index\n",
    "ind_zero"
   ]
  },
  {
   "cell_type": "code",
   "execution_count": 11,
   "id": "f0af43cb",
   "metadata": {},
   "outputs": [
    {
     "data": {
      "text/plain": [
       "1         2243\n",
       "2         1941\n",
       "3         2540\n",
       "4         1552\n",
       "5         1933\n",
       "          ... \n",
       "356005    1643\n",
       "356010    2406\n",
       "356017      21\n",
       "356022       0\n",
       "356026    2092\n",
       "Name: energy_100g, Length: 295367, dtype: object"
      ]
     },
     "execution_count": 11,
     "metadata": {},
     "output_type": "execute_result"
    }
   ],
   "source": [
    "# Drop rows with NaN values in column 'energy_100g'\n",
    "df1_energy = df1.drop(df1[df1['energy_100g'].isna()].index, axis=0)\n",
    "df1_energy['energy_100g']"
   ]
  },
  {
   "cell_type": "code",
   "execution_count": 12,
   "id": "bf93162c",
   "metadata": {},
   "outputs": [
    {
     "data": {
      "text/plain": [
       "176                                        Laitue en salade\n",
       "177                                             Pâtisserie \n",
       "182                                              Pâtisserie\n",
       "183                                                    Pain\n",
       "187                                         Quiche lorraine\n",
       "                                ...                        \n",
       "355906                          tuna chunks in spring water\n",
       "355930                                    Microwave Popcorn\n",
       "355940                     Ядра семян подсолнечника жареные\n",
       "355966    Bière blanche artisanale sur lie non filtrée n...\n",
       "356017                                    thé bio équitable\n",
       "Name: generic_name, Length: 48300, dtype: object"
      ]
     },
     "execution_count": 12,
     "metadata": {},
     "output_type": "execute_result"
    }
   ],
   "source": [
    "# Select products with \"generic_name\"\n",
    "df1_generic = df1_energy[df1_energy['generic_name'].notna()].copy()\n",
    "df1_generic['generic_name']\n",
    "\n",
    "## only 48300 !!!"
   ]
  },
  {
   "cell_type": "code",
   "execution_count": 14,
   "id": "c6151d48",
   "metadata": {},
   "outputs": [
    {
     "data": {
      "text/plain": [
       "182             Pâtisserie\n",
       "183                   Pain\n",
       "223       Pralinenmischung\n",
       "244            Cauliflower\n",
       "686               Herrings\n",
       "                ...       \n",
       "355635           Gaufrette\n",
       "355651               Water\n",
       "355758            céréales\n",
       "355849             Oatmeal\n",
       "355889           Ajoaceite\n",
       "Name: generic_name, Length: 2821, dtype: object"
      ]
     },
     "execution_count": 14,
     "metadata": {},
     "output_type": "execute_result"
    }
   ],
   "source": [
    "# Select 'generic_names' with alphanumeric values (and only one word)\n",
    "df1_alnum2 = df1_generic[df1_generic['generic_name'].str.isalnum()]\n",
    "df1_alnum2['generic_name']\n",
    "\n",
    "##only 2821 !!!"
   ]
  },
  {
   "cell_type": "code",
   "execution_count": 15,
   "id": "0255bc34",
   "metadata": {},
   "outputs": [
    {
     "data": {
      "text/plain": [
       "182       5\n",
       "183       0\n",
       "223       3\n",
       "244       0\n",
       "686       1\n",
       "9895      1\n",
       "10596     0\n",
       "11163    10\n",
       "11424     0\n",
       "13199     0\n",
       "13608     0\n",
       "16779     1\n",
       "16793     3\n",
       "19992     0\n",
       "Name: additives_n, dtype: object"
      ]
     },
     "execution_count": 15,
     "metadata": {},
     "output_type": "execute_result"
    }
   ],
   "source": [
    "#Remove products with additives. 'additives_n': number of additives\n",
    "df1_alnum2.loc[:20000,'additives_n']"
   ]
  },
  {
   "cell_type": "code",
   "execution_count": 16,
   "id": "3e5bedc7",
   "metadata": {},
   "outputs": [
    {
     "data": {
      "text/plain": [
       "nan"
      ]
     },
     "execution_count": 16,
     "metadata": {},
     "output_type": "execute_result"
    }
   ],
   "source": [
    "df1_alnum2.loc[355651,'additives_n'] "
   ]
  },
  {
   "cell_type": "code",
   "execution_count": 17,
   "id": "da5d296b",
   "metadata": {},
   "outputs": [
    {
     "data": {
      "text/plain": [
       "183       0\n",
       "244       0\n",
       "10596     0\n",
       "11424     0\n",
       "13199     0\n",
       "         ..\n",
       "355199    0\n",
       "355343    0\n",
       "355416    0\n",
       "355849    0\n",
       "355889    0\n",
       "Name: additives_n, Length: 1320, dtype: object"
      ]
     },
     "execution_count": 17,
     "metadata": {},
     "output_type": "execute_result"
    }
   ],
   "source": [
    "## values are \"string\" (not integer)\n",
    "df1_alnum3 = df1_alnum2[df1_alnum2['additives_n']=='0']\n",
    "df1_alnum3['additives_n']\n",
    "\n",
    "#only 1320 !!"
   ]
  },
  {
   "cell_type": "code",
   "execution_count": 18,
   "id": "ad25cb76",
   "metadata": {},
   "outputs": [
    {
     "data": {
      "text/plain": [
       "183                                             fr:Boulange\n",
       "244       Plant-based foods and beverages,Plant-based fo...\n",
       "10596     Plant-based foods and beverages,Plant-based fo...\n",
       "11424     Plant-based foods and beverages,Plant-based fo...\n",
       "13199                                                   NaN\n",
       "                                ...                        \n",
       "355199    Spreads,Breakfasts,Sweet spreads,Bee products,...\n",
       "355343                             Sugary snacks,Chocolates\n",
       "355416                      Dairies,Cheeses,Italian cheeses\n",
       "355849    Plant-based foods and beverages,Plant-based fo...\n",
       "355889                                     fr:Sauce-a-l-ail\n",
       "Name: categories_en, Length: 1320, dtype: object"
      ]
     },
     "execution_count": 18,
     "metadata": {},
     "output_type": "execute_result"
    }
   ],
   "source": [
    "#Look for 'categories'\n",
    "df1_alnum3.loc[:900000,'categories_en']"
   ]
  },
  {
   "cell_type": "code",
   "execution_count": 19,
   "id": "5191d6e2",
   "metadata": {},
   "outputs": [
    {
     "name": "stdout",
     "output_type": "stream",
     "text": [
      "<class 'pandas.core.series.Series'>\n",
      "fr:Boulange\n"
     ]
    }
   ],
   "source": [
    "# df2_plants = df1_alnum3[df1_alnum3['categories_en'].str.contains('Plant')]\n",
    "## ValueError: Cannot mask with non-boolean array containing NA / NaN values\n",
    "\n",
    "S_categ = df1_alnum3.loc[df1_alnum3['categories_en'].notna(), 'categories_en']\n",
    "# df1_sin_add  = df1_alnum3[df1_alnum3['additives_n']==0]\n",
    "print(type(S_categ))\n",
    "print(S_categ[183])"
   ]
  },
  {
   "cell_type": "code",
   "execution_count": 22,
   "id": "efa9fded",
   "metadata": {},
   "outputs": [
    {
     "data": {
      "text/plain": [
       "244       Plant-based foods and beverages,Plant-based fo...\n",
       "10596     Plant-based foods and beverages,Plant-based fo...\n",
       "11424     Plant-based foods and beverages,Plant-based fo...\n",
       "24778     Plant-based foods and beverages,Plant-based fo...\n",
       "32691     Plant-based foods and beverages,Plant-based fo...\n",
       "                                ...                        \n",
       "351454    Plant-based foods and beverages,Plant-based fo...\n",
       "351682    Plant-based foods and beverages,Plant-based fo...\n",
       "352962    Plant-based foods and beverages,Plant-based fo...\n",
       "355073    Plant-based foods and beverages,Plant-based fo...\n",
       "355849    Plant-based foods and beverages,Plant-based fo...\n",
       "Name: categories_en, Length: 554, dtype: object"
      ]
     },
     "execution_count": 22,
     "metadata": {},
     "output_type": "execute_result"
    }
   ],
   "source": [
    "#Select categories (in english) containing the word \"Plant\"\n",
    "S_plant = S_categ[S_categ.str.contains('Plant')]\n",
    "S_plant\n",
    "\n",
    "## only 554 !!"
   ]
  },
  {
   "cell_type": "code",
   "execution_count": 23,
   "id": "4722b3d3",
   "metadata": {},
   "outputs": [],
   "source": [
    "df2_plants = df1_alnum3.copy()\n",
    "df2_plants = df2_plants.loc[S_plant.index]"
   ]
  },
  {
   "cell_type": "code",
   "execution_count": 24,
   "id": "4e750674",
   "metadata": {},
   "outputs": [
    {
     "data": {
      "text/plain": [
       "244       Plant-based foods and beverages,Plant-based fo...\n",
       "10596     Plant-based foods and beverages,Plant-based fo...\n",
       "11424     Plant-based foods and beverages,Plant-based fo...\n",
       "24778     Plant-based foods and beverages,Plant-based fo...\n",
       "32691     Plant-based foods and beverages,Plant-based fo...\n",
       "                                ...                        \n",
       "351454    Plant-based foods and beverages,Plant-based fo...\n",
       "351682    Plant-based foods and beverages,Plant-based fo...\n",
       "352962    Plant-based foods and beverages,Plant-based fo...\n",
       "355073    Plant-based foods and beverages,Plant-based fo...\n",
       "355849    Plant-based foods and beverages,Plant-based fo...\n",
       "Name: categories_en, Length: 554, dtype: object"
      ]
     },
     "execution_count": 24,
     "metadata": {},
     "output_type": "execute_result"
    }
   ],
   "source": [
    "df2_plants['categories_en']"
   ]
  },
  {
   "cell_type": "code",
   "execution_count": 25,
   "id": "c6b0e7ec",
   "metadata": {},
   "outputs": [
    {
     "data": {
      "text/plain": [
       "244                                             Cauliflower\n",
       "10596                                  Durum Wheat Semolina\n",
       "11424     pistaches 96%, sel 2%, poivre, sucre, poudre d...\n",
       "24778                             Seminola and durum flour \n",
       "32691                     Hojuelas de avena de grano entero\n",
       "                                ...                        \n",
       "351454                                               Longan\n",
       "351682                                             tamarins\n",
       "352962    fruits*40% raisin de Smyrne* ( raisins de Smyr...\n",
       "355073    Durum semolina, beef (16%), water, breadcrumbs...\n",
       "355849                                            100% Oats\n",
       "Name: ingredients_text, Length: 554, dtype: object"
      ]
     },
     "execution_count": 25,
     "metadata": {},
     "output_type": "execute_result"
    }
   ],
   "source": [
    "df2_plants['ingredients_text']"
   ]
  },
  {
   "cell_type": "code",
   "execution_count": null,
   "id": "4610d000",
   "metadata": {},
   "outputs": [],
   "source": []
  },
  {
   "cell_type": "markdown",
   "id": "434e1ee7",
   "metadata": {},
   "source": [
    "<div class=\"alert alert-block alert-info\" style=\"margin-top: 20px\">\n",
    "\n",
    "Ejercicio:\n",
    "Buscar los que tengan un único ingrediente\n"
   ]
  },
  {
   "cell_type": "markdown",
   "id": "bce92d0f",
   "metadata": {},
   "source": [
    "<div class=\"alert alert-block alert-info\" style=\"margin-top: 20px\">\n",
    "\n",
    "Ejercicio:\n",
    "Filtrar por 'pnns_group_1' o 'pnns_groups_2'"
   ]
  },
  {
   "cell_type": "code",
   "execution_count": 26,
   "id": "d16ddd37",
   "metadata": {},
   "outputs": [],
   "source": [
    "#save the 'small' DataFrame\n",
    "df2_plants.to_excel('OpenFoodFact_plants.xlsx')"
   ]
  },
  {
   "cell_type": "code",
   "execution_count": null,
   "id": "09d67ba9",
   "metadata": {},
   "outputs": [],
   "source": []
  },
  {
   "cell_type": "code",
   "execution_count": null,
   "id": "8f351702",
   "metadata": {},
   "outputs": [],
   "source": []
  },
  {
   "cell_type": "code",
   "execution_count": null,
   "id": "aa911c1d",
   "metadata": {},
   "outputs": [],
   "source": []
  },
  {
   "cell_type": "code",
   "execution_count": null,
   "id": "650ce583",
   "metadata": {},
   "outputs": [],
   "source": []
  },
  {
   "cell_type": "code",
   "execution_count": null,
   "id": "f9ad8295",
   "metadata": {},
   "outputs": [],
   "source": []
  },
  {
   "cell_type": "markdown",
   "id": "e39e741a",
   "metadata": {},
   "source": [
    "<div class=\"alert alert-block alert-info\" style=\"margin-top: 20px\">\n",
    "\n",
    "<h3> DateTime type </h3>\n",
    "pandas contains extensive capabilities and features for working with time series data for all domains. For example:\n",
    "\n",
    "<ul>\n",
    "    <li>Manipulating and converting date times with timezone information</li>\n",
    "    <li>Performing date and time arithmetic with absolute or relative time increments</li>\n",
    "    <li> ... </li>\n",
    "</ul>\n",
    "    \n",
    "<b>pd.to_datetime()</b> converts Series into <i>datetime</i> type. If you use dates which start with the day first (i.e. European style), you can pass the dayfirst flag (\"dayfirst=True\")\n",
    "<p>\n",
    "https://pandas.pydata.org/docs/user_guide/timeseries.html"
   ]
  },
  {
   "cell_type": "code",
   "execution_count": null,
   "id": "692ccd6c",
   "metadata": {},
   "outputs": [],
   "source": []
  },
  {
   "cell_type": "code",
   "execution_count": 27,
   "id": "461989e2",
   "metadata": {},
   "outputs": [
    {
     "data": {
      "text/plain": [
       "244       2014-09-01T14:48:04Z\n",
       "10596     2015-04-07T15:23:18Z\n",
       "11424     2015-04-14T08:42:18Z\n",
       "24778     2015-02-22T04:33:38Z\n",
       "32691     2017-07-31T00:54:07Z\n",
       "                  ...         \n",
       "351454    2017-07-27T05:27:37Z\n",
       "351682    2016-04-09T14:56:50Z\n",
       "352962    2016-10-24T06:52:01Z\n",
       "355073    2015-03-02T08:57:40Z\n",
       "355849    2014-10-11T16:23:12Z\n",
       "Name: created_datetime, Length: 554, dtype: object"
      ]
     },
     "execution_count": 27,
     "metadata": {},
     "output_type": "execute_result"
    }
   ],
   "source": [
    "df2_plants['created_datetime']"
   ]
  },
  {
   "cell_type": "code",
   "execution_count": 28,
   "id": "2894c0bd",
   "metadata": {
    "scrolled": true
   },
   "outputs": [
    {
     "data": {
      "text/plain": [
       "244      2014-09-01 14:48:04+00:00\n",
       "10596    2015-04-07 15:23:18+00:00\n",
       "11424    2015-04-14 08:42:18+00:00\n",
       "24778    2015-02-22 04:33:38+00:00\n",
       "32691    2017-07-31 00:54:07+00:00\n",
       "                    ...           \n",
       "351454   2017-07-27 05:27:37+00:00\n",
       "351682   2016-04-09 14:56:50+00:00\n",
       "352962   2016-10-24 06:52:01+00:00\n",
       "355073   2015-03-02 08:57:40+00:00\n",
       "355849   2014-10-11 16:23:12+00:00\n",
       "Name: created_datetime, Length: 554, dtype: datetime64[ns, UTC]"
      ]
     },
     "execution_count": 28,
     "metadata": {},
     "output_type": "execute_result"
    }
   ],
   "source": [
    "## Change type to \"datetime64\"\n",
    "serie_date = pd.to_datetime(df2_plants.loc[:,'created_datetime']).copy()\n",
    "serie_date"
   ]
  },
  {
   "cell_type": "code",
   "execution_count": 29,
   "id": "4335c505",
   "metadata": {
    "scrolled": true
   },
   "outputs": [],
   "source": [
    "df2_plants.loc[:,'created_datetime2'] = serie_date"
   ]
  },
  {
   "cell_type": "code",
   "execution_count": 32,
   "id": "3ea4b6d9",
   "metadata": {},
   "outputs": [
    {
     "data": {
      "text/plain": [
       "244      2014-09-01 14:48:04+00:00\n",
       "10596    2015-04-07 15:23:18+00:00\n",
       "11424    2015-04-14 08:42:18+00:00\n",
       "24778    2015-02-22 04:33:38+00:00\n",
       "32691    2017-07-31 00:54:07+00:00\n",
       "                    ...           \n",
       "351454   2017-07-27 05:27:37+00:00\n",
       "351682   2016-04-09 14:56:50+00:00\n",
       "352962   2016-10-24 06:52:01+00:00\n",
       "355073   2015-03-02 08:57:40+00:00\n",
       "355849   2014-10-11 16:23:12+00:00\n",
       "Name: created_datetime2, Length: 554, dtype: datetime64[ns, UTC]"
      ]
     },
     "execution_count": 32,
     "metadata": {},
     "output_type": "execute_result"
    }
   ],
   "source": [
    "df2_plants['created_datetime2']"
   ]
  },
  {
   "cell_type": "code",
   "execution_count": 35,
   "id": "032a16e1",
   "metadata": {},
   "outputs": [],
   "source": [
    "serie_date2 = pd.to_datetime(df2_plants['last_modified_datetime'], infer_datetime_format=True, utc=True).copy()\n"
   ]
  },
  {
   "cell_type": "code",
   "execution_count": 39,
   "id": "03182585",
   "metadata": {
    "scrolled": true
   },
   "outputs": [
    {
     "data": {
      "text/plain": [
       "244      2015-02-23 10:38:56+00:00\n",
       "10596    2015-04-07 15:31:32+00:00\n",
       "11424    2015-04-14 14:25:27+00:00\n",
       "24778    2015-08-09 17:35:52+00:00\n",
       "32691    2017-09-10 18:23:44+00:00\n",
       "                    ...           \n",
       "351454   2017-07-27 05:34:29+00:00\n",
       "351682   2017-03-27 19:56:30+00:00\n",
       "352962   2017-08-02 14:03:15+00:00\n",
       "355073   2015-03-02 09:10:33+00:00\n",
       "355849   2014-10-11 17:25:07+00:00\n",
       "Name: last_modified_datetime, Length: 554, dtype: datetime64[ns, UTC]"
      ]
     },
     "execution_count": 39,
     "metadata": {},
     "output_type": "execute_result"
    }
   ],
   "source": [
    "serie_date2"
   ]
  },
  {
   "cell_type": "code",
   "execution_count": null,
   "id": "873eb875",
   "metadata": {},
   "outputs": [],
   "source": []
  },
  {
   "cell_type": "markdown",
   "id": "bbed09fe",
   "metadata": {},
   "source": [
    "<div class=\"alert alert-block alert-info\" style=\"margin-top: 20px\">\n",
    "    \n",
    "<b>.dt accessor</b>: Accessor object for datetimelike properties of the Series values. For example, you can access to \"hour\", \"minute\", \"month\", \"year\", or \"date\".\n",
    "<p>\n",
    "\n",
    "<b>datetime.striptime()</b> creates a datetime object from a string representing a date and time and a corresponding format string.    The format code can be found in https://docs.python.org/3/library/datetime.html#strftime-and-strptime-behavior"
   ]
  },
  {
   "cell_type": "code",
   "execution_count": 51,
   "id": "e8d7440d",
   "metadata": {},
   "outputs": [
    {
     "data": {
      "text/plain": [
       "244       23-02-2015\n",
       "10596     07-04-2015\n",
       "11424     14-04-2015\n",
       "24778     09-08-2015\n",
       "32691     10-09-2017\n",
       "             ...    \n",
       "351454    27-07-2017\n",
       "351682    27-03-2017\n",
       "352962    02-08-2017\n",
       "355073    02-03-2015\n",
       "355849    11-10-2014\n",
       "Name: last_modified_datetime2, Length: 554, dtype: object"
      ]
     },
     "execution_count": 51,
     "metadata": {},
     "output_type": "execute_result"
    }
   ],
   "source": [
    "#change format of datetime\n",
    "df2_plants['last_modified_datetime2'] = serie_date2.dt.strftime('%d-%m-%Y')\n",
    "df2_plants['last_modified_datetime2']"
   ]
  },
  {
   "cell_type": "code",
   "execution_count": 52,
   "id": "ddc1ff23",
   "metadata": {},
   "outputs": [
    {
     "data": {
      "text/plain": [
       "244          Monday\n",
       "10596       Tuesday\n",
       "11424       Tuesday\n",
       "24778        Sunday\n",
       "32691        Sunday\n",
       "            ...    \n",
       "351454     Thursday\n",
       "351682       Monday\n",
       "352962    Wednesday\n",
       "355073       Monday\n",
       "355849     Saturday\n",
       "Name: last_modified_date_week, Length: 554, dtype: object"
      ]
     },
     "execution_count": 52,
     "metadata": {},
     "output_type": "execute_result"
    }
   ],
   "source": [
    "#to get the day of the week\n",
    "df2_plants['last_modified_date_week']=serie_date2.dt.day_name()\n",
    "df2_plants['last_modified_date_week']"
   ]
  },
  {
   "cell_type": "markdown",
   "id": "3c2f31d8",
   "metadata": {},
   "source": [
    "<div class=\"alert alert-block alert-info\" style=\"margin-top: 20px\">\n",
    "\n",
    "<h3> <i>timedelta64</i> - data type</h3>"
   ]
  },
  {
   "cell_type": "code",
   "execution_count": 56,
   "id": "3b9e4963",
   "metadata": {},
   "outputs": [],
   "source": [
    "# The difference between two datetime64 data is a timedelta64\n",
    "# df2_plants['elapse_time']=df2_plants['last_modified_datetime']- df2_plants['created_datetime']\n",
    "# df2_plants['elapse_time']=df2_plants['last_modified_datetime2']- df2_plants['created_datetime2']"
   ]
  },
  {
   "cell_type": "code",
   "execution_count": 54,
   "id": "eb691fdd",
   "metadata": {},
   "outputs": [
    {
     "data": {
      "text/plain": [
       "244       23-02-2015\n",
       "10596     07-04-2015\n",
       "11424     14-04-2015\n",
       "24778     09-08-2015\n",
       "32691     10-09-2017\n",
       "             ...    \n",
       "351454    27-07-2017\n",
       "351682    27-03-2017\n",
       "352962    02-08-2017\n",
       "355073    02-03-2015\n",
       "355849    11-10-2014\n",
       "Name: last_modified_datetime2, Length: 554, dtype: object"
      ]
     },
     "execution_count": 54,
     "metadata": {},
     "output_type": "execute_result"
    }
   ],
   "source": [
    "# Caution!!! It's a STRING\n",
    "df2_plants['last_modified_datetime2']"
   ]
  },
  {
   "cell_type": "code",
   "execution_count": 66,
   "id": "41236d89",
   "metadata": {},
   "outputs": [
    {
     "name": "stdout",
     "output_type": "stream",
     "text": [
      "<class 'pandas.core.series.Series'>\n",
      "Int64Index: 554 entries, 244 to 355849\n",
      "Series name: last_modified_datetime\n",
      "Non-Null Count  Dtype \n",
      "--------------  ----- \n",
      "554 non-null    object\n",
      "dtypes: object(1)\n",
      "memory usage: 8.7+ KB\n"
     ]
    }
   ],
   "source": [
    "df2_plants['last_modified_datetime'].info()"
   ]
  },
  {
   "cell_type": "code",
   "execution_count": 55,
   "id": "cb153a5f",
   "metadata": {},
   "outputs": [
    {
     "data": {
      "text/plain": [
       "244      2014-09-01 14:48:04+00:00\n",
       "10596    2015-04-07 15:23:18+00:00\n",
       "11424    2015-04-14 08:42:18+00:00\n",
       "24778    2015-02-22 04:33:38+00:00\n",
       "32691    2017-07-31 00:54:07+00:00\n",
       "                    ...           \n",
       "351454   2017-07-27 05:27:37+00:00\n",
       "351682   2016-04-09 14:56:50+00:00\n",
       "352962   2016-10-24 06:52:01+00:00\n",
       "355073   2015-03-02 08:57:40+00:00\n",
       "355849   2014-10-11 16:23:12+00:00\n",
       "Name: created_datetime2, Length: 554, dtype: datetime64[ns, UTC]"
      ]
     },
     "execution_count": 55,
     "metadata": {},
     "output_type": "execute_result"
    }
   ],
   "source": [
    "df2_plants['created_datetime2']"
   ]
  },
  {
   "cell_type": "code",
   "execution_count": 60,
   "id": "52ba6119",
   "metadata": {},
   "outputs": [],
   "source": [
    "## In order to substract datetimes, use parameters \"infer_datetime_format\", and 'utc'\n",
    "df2_plants['elapse_time']= pd.to_datetime(df2_plants.loc[:,'last_modified_datetime2'], infer_datetime_format=True, utc=True)- df2_plants['created_datetime2']"
   ]
  },
  {
   "cell_type": "code",
   "execution_count": 61,
   "id": "e616a769",
   "metadata": {},
   "outputs": [
    {
     "data": {
      "text/plain": [
       "244      174 days 09:11:56\n",
       "10596    -1 days +08:36:42\n",
       "11424    -1 days +15:17:42\n",
       "24778    167 days 19:26:22\n",
       "32691     40 days 23:05:53\n",
       "                ...       \n",
       "351454   -1 days +18:32:23\n",
       "351682   351 days 09:03:10\n",
       "352962   281 days 17:07:59\n",
       "355073   -1 days +15:02:20\n",
       "355849   -1 days +07:36:48\n",
       "Name: elapse_time, Length: 554, dtype: timedelta64[ns]"
      ]
     },
     "execution_count": 61,
     "metadata": {},
     "output_type": "execute_result"
    }
   ],
   "source": [
    "df2_plants['elapse_time']"
   ]
  },
  {
   "cell_type": "code",
   "execution_count": 62,
   "id": "15557642",
   "metadata": {},
   "outputs": [],
   "source": [
    "df2_plants['elapse_time'] = df2_plants['elapse_time'].copy().dt.days"
   ]
  },
  {
   "cell_type": "code",
   "execution_count": 63,
   "id": "8414fa9e",
   "metadata": {},
   "outputs": [
    {
     "data": {
      "text/plain": [
       "244       174\n",
       "10596      -1\n",
       "11424      -1\n",
       "24778     167\n",
       "32691      40\n",
       "         ... \n",
       "351454     -1\n",
       "351682    351\n",
       "352962    281\n",
       "355073     -1\n",
       "355849     -1\n",
       "Name: elapse_time, Length: 554, dtype: int64"
      ]
     },
     "execution_count": 63,
     "metadata": {},
     "output_type": "execute_result"
    }
   ],
   "source": [
    "df2_plants['elapse_time']"
   ]
  },
  {
   "cell_type": "code",
   "execution_count": 65,
   "id": "c4584d48",
   "metadata": {},
   "outputs": [
    {
     "data": {
      "text/html": [
       "<div>\n",
       "<style scoped>\n",
       "    .dataframe tbody tr th:only-of-type {\n",
       "        vertical-align: middle;\n",
       "    }\n",
       "\n",
       "    .dataframe tbody tr th {\n",
       "        vertical-align: top;\n",
       "    }\n",
       "\n",
       "    .dataframe thead th {\n",
       "        text-align: right;\n",
       "    }\n",
       "</style>\n",
       "<table border=\"1\" class=\"dataframe\">\n",
       "  <thead>\n",
       "    <tr style=\"text-align: right;\">\n",
       "      <th></th>\n",
       "      <th>code</th>\n",
       "      <th>url</th>\n",
       "      <th>creator</th>\n",
       "      <th>created_t</th>\n",
       "      <th>created_datetime</th>\n",
       "      <th>last_modified_t</th>\n",
       "      <th>last_modified_datetime</th>\n",
       "      <th>product_name</th>\n",
       "      <th>generic_name</th>\n",
       "      <th>quantity</th>\n",
       "      <th>...</th>\n",
       "      <th>carbon-footprint_100g</th>\n",
       "      <th>nutrition-score-fr_100g</th>\n",
       "      <th>nutrition-score-uk_100g</th>\n",
       "      <th>glycemic-index_100g</th>\n",
       "      <th>water-hardness_100g</th>\n",
       "      <th>created_datetime2</th>\n",
       "      <th>last_modified_datetime3</th>\n",
       "      <th>last_modified_date_week</th>\n",
       "      <th>last_modified_datetime2</th>\n",
       "      <th>elapse_time</th>\n",
       "    </tr>\n",
       "  </thead>\n",
       "  <tbody>\n",
       "    <tr>\n",
       "      <th>244</th>\n",
       "      <td>00000758</td>\n",
       "      <td>http://world-en.openfoodfacts.org/product/0000...</td>\n",
       "      <td>tacinte</td>\n",
       "      <td>1409582884</td>\n",
       "      <td>2014-09-01T14:48:04Z</td>\n",
       "      <td>1424687936</td>\n",
       "      <td>2015-02-23T10:38:56Z</td>\n",
       "      <td>Cauliflower</td>\n",
       "      <td>Cauliflower</td>\n",
       "      <td>1</td>\n",
       "      <td>...</td>\n",
       "      <td>NaN</td>\n",
       "      <td>NaN</td>\n",
       "      <td>NaN</td>\n",
       "      <td>NaN</td>\n",
       "      <td>NaN</td>\n",
       "      <td>2014-09-01 14:48:04+00:00</td>\n",
       "      <td>23-02-2015</td>\n",
       "      <td>Monday</td>\n",
       "      <td>23-02-2015</td>\n",
       "      <td>174</td>\n",
       "    </tr>\n",
       "    <tr>\n",
       "      <th>10596</th>\n",
       "      <td>00126410</td>\n",
       "      <td>http://world-en.openfoodfacts.org/product/0012...</td>\n",
       "      <td>kaman</td>\n",
       "      <td>1428420198</td>\n",
       "      <td>2015-04-07T15:23:18Z</td>\n",
       "      <td>1428420692</td>\n",
       "      <td>2015-04-07T15:31:32Z</td>\n",
       "      <td>Orzo by Sainsbury's</td>\n",
       "      <td>Orzo</td>\n",
       "      <td>500 g</td>\n",
       "      <td>...</td>\n",
       "      <td>NaN</td>\n",
       "      <td>-4</td>\n",
       "      <td>-4</td>\n",
       "      <td>NaN</td>\n",
       "      <td>NaN</td>\n",
       "      <td>2015-04-07 15:23:18+00:00</td>\n",
       "      <td>07-04-2015</td>\n",
       "      <td>Tuesday</td>\n",
       "      <td>07-04-2015</td>\n",
       "      <td>-1</td>\n",
       "    </tr>\n",
       "    <tr>\n",
       "      <th>11424</th>\n",
       "      <td>0014113912112</td>\n",
       "      <td>http://world-en.openfoodfacts.org/product/0014...</td>\n",
       "      <td>domdom26</td>\n",
       "      <td>1429000938</td>\n",
       "      <td>2015-04-14T08:42:18Z</td>\n",
       "      <td>1429021527</td>\n",
       "      <td>2015-04-14T14:25:27Z</td>\n",
       "      <td>Pistachios salt &amp; pepper</td>\n",
       "      <td>Pistache</td>\n",
       "      <td>150 g</td>\n",
       "      <td>...</td>\n",
       "      <td>NaN</td>\n",
       "      <td>23</td>\n",
       "      <td>23</td>\n",
       "      <td>NaN</td>\n",
       "      <td>NaN</td>\n",
       "      <td>2015-04-14 08:42:18+00:00</td>\n",
       "      <td>14-04-2015</td>\n",
       "      <td>Tuesday</td>\n",
       "      <td>14-04-2015</td>\n",
       "      <td>-1</td>\n",
       "    </tr>\n",
       "    <tr>\n",
       "      <th>24778</th>\n",
       "      <td>0029243050351</td>\n",
       "      <td>http://world-en.openfoodfacts.org/product/0029...</td>\n",
       "      <td>kp757</td>\n",
       "      <td>1424579618</td>\n",
       "      <td>2015-02-22T04:33:38Z</td>\n",
       "      <td>1439141752</td>\n",
       "      <td>2015-08-09T17:35:52Z</td>\n",
       "      <td>Macaroni Elbows No. 35</td>\n",
       "      <td>Macaroni</td>\n",
       "      <td>1 lb</td>\n",
       "      <td>...</td>\n",
       "      <td>NaN</td>\n",
       "      <td>-4</td>\n",
       "      <td>-4</td>\n",
       "      <td>NaN</td>\n",
       "      <td>NaN</td>\n",
       "      <td>2015-02-22 04:33:38+00:00</td>\n",
       "      <td>09-08-2015</td>\n",
       "      <td>Sunday</td>\n",
       "      <td>09-08-2015</td>\n",
       "      <td>167</td>\n",
       "    </tr>\n",
       "    <tr>\n",
       "      <th>32691</th>\n",
       "      <td>0036731135513</td>\n",
       "      <td>http://world-en.openfoodfacts.org/product/0036...</td>\n",
       "      <td>openfoodfacts-contributors</td>\n",
       "      <td>1501462447</td>\n",
       "      <td>2017-07-31T00:54:07Z</td>\n",
       "      <td>1505067824</td>\n",
       "      <td>2017-09-10T18:23:44Z</td>\n",
       "      <td>Hojuelas de avena natural</td>\n",
       "      <td>Avena</td>\n",
       "      <td>510 g</td>\n",
       "      <td>...</td>\n",
       "      <td>NaN</td>\n",
       "      <td>-6</td>\n",
       "      <td>-6</td>\n",
       "      <td>NaN</td>\n",
       "      <td>NaN</td>\n",
       "      <td>2017-07-31 00:54:07+00:00</td>\n",
       "      <td>10-09-2017</td>\n",
       "      <td>Sunday</td>\n",
       "      <td>10-09-2017</td>\n",
       "      <td>40</td>\n",
       "    </tr>\n",
       "  </tbody>\n",
       "</table>\n",
       "<p>5 rows × 168 columns</p>\n",
       "</div>"
      ],
      "text/plain": [
       "                code                                                url  \\\n",
       "244         00000758  http://world-en.openfoodfacts.org/product/0000...   \n",
       "10596       00126410  http://world-en.openfoodfacts.org/product/0012...   \n",
       "11424  0014113912112  http://world-en.openfoodfacts.org/product/0014...   \n",
       "24778  0029243050351  http://world-en.openfoodfacts.org/product/0029...   \n",
       "32691  0036731135513  http://world-en.openfoodfacts.org/product/0036...   \n",
       "\n",
       "                          creator   created_t      created_datetime  \\\n",
       "244                       tacinte  1409582884  2014-09-01T14:48:04Z   \n",
       "10596                       kaman  1428420198  2015-04-07T15:23:18Z   \n",
       "11424                    domdom26  1429000938  2015-04-14T08:42:18Z   \n",
       "24778                       kp757  1424579618  2015-02-22T04:33:38Z   \n",
       "32691  openfoodfacts-contributors  1501462447  2017-07-31T00:54:07Z   \n",
       "\n",
       "      last_modified_t last_modified_datetime               product_name  \\\n",
       "244        1424687936   2015-02-23T10:38:56Z                Cauliflower   \n",
       "10596      1428420692   2015-04-07T15:31:32Z        Orzo by Sainsbury's   \n",
       "11424      1429021527   2015-04-14T14:25:27Z   Pistachios salt & pepper   \n",
       "24778      1439141752   2015-08-09T17:35:52Z     Macaroni Elbows No. 35   \n",
       "32691      1505067824   2017-09-10T18:23:44Z  Hojuelas de avena natural   \n",
       "\n",
       "      generic_name quantity  ... carbon-footprint_100g  \\\n",
       "244    Cauliflower        1  ...                   NaN   \n",
       "10596         Orzo    500 g  ...                   NaN   \n",
       "11424     Pistache    150 g  ...                   NaN   \n",
       "24778     Macaroni     1 lb  ...                   NaN   \n",
       "32691        Avena    510 g  ...                   NaN   \n",
       "\n",
       "      nutrition-score-fr_100g nutrition-score-uk_100g glycemic-index_100g  \\\n",
       "244                       NaN                     NaN                 NaN   \n",
       "10596                      -4                      -4                 NaN   \n",
       "11424                      23                      23                 NaN   \n",
       "24778                      -4                      -4                 NaN   \n",
       "32691                      -6                      -6                 NaN   \n",
       "\n",
       "      water-hardness_100g         created_datetime2 last_modified_datetime3  \\\n",
       "244                   NaN 2014-09-01 14:48:04+00:00              23-02-2015   \n",
       "10596                 NaN 2015-04-07 15:23:18+00:00              07-04-2015   \n",
       "11424                 NaN 2015-04-14 08:42:18+00:00              14-04-2015   \n",
       "24778                 NaN 2015-02-22 04:33:38+00:00              09-08-2015   \n",
       "32691                 NaN 2017-07-31 00:54:07+00:00              10-09-2017   \n",
       "\n",
       "      last_modified_date_week last_modified_datetime2 elapse_time  \n",
       "244                    Monday              23-02-2015         174  \n",
       "10596                 Tuesday              07-04-2015          -1  \n",
       "11424                 Tuesday              14-04-2015          -1  \n",
       "24778                  Sunday              09-08-2015         167  \n",
       "32691                  Sunday              10-09-2017          40  \n",
       "\n",
       "[5 rows x 168 columns]"
      ]
     },
     "execution_count": 65,
     "metadata": {},
     "output_type": "execute_result"
    }
   ],
   "source": [
    "df2_plants.head()"
   ]
  },
  {
   "cell_type": "code",
   "execution_count": null,
   "id": "73710963",
   "metadata": {},
   "outputs": [],
   "source": [
    "import numpy as np"
   ]
  },
  {
   "cell_type": "code",
   "execution_count": null,
   "id": "78ffa07a",
   "metadata": {},
   "outputs": [],
   "source": []
  },
  {
   "cell_type": "code",
   "execution_count": null,
   "id": "9c67764a",
   "metadata": {},
   "outputs": [],
   "source": []
  },
  {
   "cell_type": "code",
   "execution_count": null,
   "id": "1e37ec53",
   "metadata": {},
   "outputs": [],
   "source": []
  },
  {
   "cell_type": "code",
   "execution_count": null,
   "id": "0da11f11",
   "metadata": {},
   "outputs": [],
   "source": []
  },
  {
   "cell_type": "markdown",
   "id": "78903357",
   "metadata": {},
   "source": [
    "<h2> Extracting Images</h2>"
   ]
  },
  {
   "cell_type": "code",
   "execution_count": 68,
   "id": "58d0edbe",
   "metadata": {},
   "outputs": [
    {
     "name": "stdout",
     "output_type": "stream",
     "text": [
      "http://en.openfoodfacts.org/images/products/00000758/front.9.200.jpg\n"
     ]
    }
   ],
   "source": [
    "serie_imag = df2_plants.loc[df2_plants['image_small_url'].notnull(), 'image_small_url']\n",
    "# serie_imag\n",
    "image1_url = serie_imag.iloc[0]\n",
    "print(image1_url)\n"
   ]
  },
  {
   "cell_type": "code",
   "execution_count": 69,
   "id": "1c6159dc",
   "metadata": {},
   "outputs": [
    {
     "name": "stdout",
     "output_type": "stream",
     "text": [
      "http://en.openfoodfacts.org/images/products/00000758/front.9.200.jpg\n",
      "http://en.openfoodfacts.org/images/products/00126410/front.3.200.jpg\n",
      "http://en.openfoodfacts.org/images/products/001/411/391/2112/front.6.200.jpg\n",
      "http://en.openfoodfacts.org/images/products/002/924/305/0351/front.4.200.jpg\n",
      "http://en.openfoodfacts.org/images/products/007/225/100/0603/front.6.200.jpg\n",
      "http://en.openfoodfacts.org/images/products/007/323/402/0083/front.4.200.jpg\n",
      "http://en.openfoodfacts.org/images/products/007/703/400/9880/front.12.200.jpg\n",
      "http://en.openfoodfacts.org/images/products/01095678/front.7.200.jpg\n",
      "http://en.openfoodfacts.org/images/products/01150421/front.5.200.jpg\n",
      "http://en.openfoodfacts.org/images/products/01199246/front.8.200.jpg\n",
      "http://en.openfoodfacts.org/images/products/022/762/801/3582/front.3.200.jpg\n",
      "http://en.openfoodfacts.org/images/products/03041314/front.4.200.jpg\n",
      "http://en.openfoodfacts.org/images/products/03201985/front.6.200.jpg\n",
      "http://en.openfoodfacts.org/images/products/03231296/front.7.200.jpg\n",
      "http://en.openfoodfacts.org/images/products/03242759/front.10.200.jpg\n",
      "http://en.openfoodfacts.org/images/products/065/585/200/0267/front.5.200.jpg\n"
     ]
    }
   ],
   "source": [
    "import requests, io\n",
    "import matplotlib.pyplot as plt \n",
    "\n",
    "# fig = plt.subplot(10,10)\n",
    "images = []\n",
    "for image_url in list(serie_imag)[:16]:\n",
    "    print(image_url)\n",
    "    response = requests.get(image_url).content\n",
    "    images.append(plt.imread(io.BytesIO(response), format='JPG'))\n",
    "#     plt.imshow(img)"
   ]
  },
  {
   "cell_type": "code",
   "execution_count": 70,
   "id": "8b9e1f29",
   "metadata": {},
   "outputs": [
    {
     "data": {
      "image/png": "[encoded data removed]",
      "text/plain": [
       "<Figure size 2304x576 with 32 Axes>"
      ]
     },
     "metadata": {
      "needs_background": "light"
     },
     "output_type": "display_data"
    }
   ],
   "source": [
    "import matplotlib.pyplot as plt\n",
    "from mpl_toolkits.axes_grid1 import ImageGrid\n",
    "\n",
    "\n",
    "fig = plt.figure(figsize=(32., 8.))\n",
    "grid = ImageGrid(fig, 111, # similar to subplot(111)\n",
    "                 nrows_ncols=(4, 4),  # creates 2x2 grid of axes\n",
    "                 axes_pad=0.1,  # pad between axes in inch.\n",
    "                 )\n",
    "\n",
    "for ax, im in zip(grid, images):\n",
    "    # Iterating over the grid returns the Axes.\n",
    "    ax.imshow(im)\n",
    "\n",
    "plt.show()"
   ]
  },
  {
   "cell_type": "code",
   "execution_count": null,
   "id": "6b8f2e76",
   "metadata": {},
   "outputs": [],
   "source": []
  },
  {
   "cell_type": "code",
   "execution_count": null,
   "id": "9049135f",
   "metadata": {},
   "outputs": [],
   "source": []
  },
  {
   "cell_type": "code",
   "execution_count": null,
   "id": "42dbb05e",
   "metadata": {},
   "outputs": [],
   "source": []
  },
  {
   "cell_type": "code",
   "execution_count": null,
   "id": "1d6e0125",
   "metadata": {},
   "outputs": [],
   "source": []
  },
  {
   "cell_type": "code",
   "execution_count": null,
   "id": "7de7d622",
   "metadata": {},
   "outputs": [],
   "source": []
  }
 ],
 "metadata": {
  "kernelspec": {
   "display_name": "Python 3",
   "language": "python",
   "name": "python3"
  },
  "language_info": {
   "codemirror_mode": {
    "name": "ipython",
    "version": 3
   },
   "file_extension": ".py",
   "mimetype": "text/x-python",
   "name": "python",
   "nbconvert_exporter": "python",
   "pygments_lexer": "ipython3",
   "version": "3.8.5"
  }
 },
 "nbformat": 4,
 "nbformat_minor": 5
}
