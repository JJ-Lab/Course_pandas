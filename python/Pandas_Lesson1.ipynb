{
 "cells": [
  {
   "cell_type": "markdown",
   "id": "311478f0",
   "metadata": {},
   "source": [
    "<h1 id=\"data_acquisition\"> Estructura de datos: Series y tablas (DataFrame)</h1>\n",
    "<div class=\"alert alert-block alert-info\" style=\"margin-top: 20px\">\n",
    "    \n",
    "<p>\n",
    "    The \"<b>pandas</b>\" name itself is derived from \"<i>panel data</i>\", an econometrics term for multidimensional\n",
    "structured datasets, and a play on the phrase Python data analysis itself.\n",
    "<p>    \n",
    "    There are two main data structures:  <b>Series</b> and <b>DataFrame</b>"
   ]
  },
  {
   "cell_type": "code",
   "execution_count": 1,
   "id": "50f4c450",
   "metadata": {},
   "outputs": [],
   "source": [
    "# Importar la librería Pandas \n",
    "import pandas as pd"
   ]
  },
  {
   "cell_type": "markdown",
   "id": "6be1d2b7",
   "metadata": {},
   "source": [
    "<div class=\"alert alert-block alert-info\" style=\"margin-top: 20px\">\n",
    "\n",
    "<h2> SERIES </h2>\n",
    "<p>\n",
    "    A Series is a one-dimensional array-like object containing a sequence of <b>values</b> (of\n",
    "    similar types to NumPy types) and an associated array of data labels, called its <b>index</b>"
   ]
  },
  {
   "cell_type": "code",
   "execution_count": 2,
   "id": "9b3be5bd",
   "metadata": {},
   "outputs": [
    {
     "data": {
      "text/plain": [
       "0    8\n",
       "1    9\n",
       "2    0\n",
       "3   -5\n",
       "4    7\n",
       "dtype: int64"
      ]
     },
     "execution_count": 2,
     "metadata": {},
     "output_type": "execute_result"
    }
   ],
   "source": [
    "#Series (dtype: int64)\n",
    "serie1 = pd.Series([8,9,0,-5,7])\n",
    "serie1"
   ]
  },
  {
   "cell_type": "code",
   "execution_count": 3,
   "id": "3bca9cfa",
   "metadata": {},
   "outputs": [
    {
     "data": {
      "text/plain": [
       "0    8.0\n",
       "1    9.0\n",
       "2    0.0\n",
       "3   -5.0\n",
       "4    7.0\n",
       "dtype: float64"
      ]
     },
     "execution_count": 3,
     "metadata": {},
     "output_type": "execute_result"
    }
   ],
   "source": [
    "#Series (dtype: float64). All values in a series are of the same type\n",
    "serie2 = pd.Series([8.0, 9, 0, -5, 7])\n",
    "serie2"
   ]
  },
  {
   "cell_type": "code",
   "execution_count": 4,
   "id": "9bd4f904",
   "metadata": {},
   "outputs": [
    {
     "data": {
      "text/plain": [
       "0       8\n",
       "1       9\n",
       "2    poco\n",
       "3      -5\n",
       "4       7\n",
       "Name: Serie3, dtype: object"
      ]
     },
     "execution_count": 4,
     "metadata": {},
     "output_type": "execute_result"
    }
   ],
   "source": [
    "#Series (dtype: object)\n",
    "serie3 = pd.Series([8, 9, 'poco',-5,7], name='Serie3')\n",
    "serie3"
   ]
  },
  {
   "cell_type": "code",
   "execution_count": 6,
   "id": "c36b270d",
   "metadata": {},
   "outputs": [
    {
     "name": "stdout",
     "output_type": "stream",
     "text": [
      "0    32\n",
      "1    36\n",
      "2     0\n",
      "3   -20\n",
      "4    28\n",
      "dtype: int64\n"
     ]
    }
   ],
   "source": [
    "# basic operations with different data types\n",
    "print(serie1*4)\n",
    "# print(serie2*4)\n",
    "# print(serie3*4)"
   ]
  },
  {
   "cell_type": "code",
   "execution_count": 7,
   "id": "7996cc9d",
   "metadata": {},
   "outputs": [
    {
     "name": "stdout",
     "output_type": "stream",
     "text": [
      "RangeIndex(start=0, stop=5, step=1)\n",
      "[8 9 'poco' -5 7]\n"
     ]
    }
   ],
   "source": [
    "print(serie3.index)\n",
    "print(serie3.values)"
   ]
  },
  {
   "cell_type": "code",
   "execution_count": 8,
   "id": "e2466d16",
   "metadata": {},
   "outputs": [
    {
     "name": "stdout",
     "output_type": "stream",
     "text": [
      "a       8\n",
      "b       9\n",
      "c    poco\n",
      "d      -5\n",
      "e       7\n",
      "Name: Serie3, dtype: object\n"
     ]
    }
   ],
   "source": [
    "serie3.index=['a','b','c','d','e']\n",
    "serie3.index\n",
    "print(serie3)"
   ]
  },
  {
   "cell_type": "code",
   "execution_count": 9,
   "id": "e12eef04",
   "metadata": {},
   "outputs": [
    {
     "data": {
      "text/plain": [
       "Id1    1.3000\n",
       "Id2    2.4000\n",
       "Id3   -3.8000\n",
       "Id4    0.0001\n",
       "Name: Series4, dtype: float64"
      ]
     },
     "execution_count": 9,
     "metadata": {},
     "output_type": "execute_result"
    }
   ],
   "source": [
    "indices4 = ['Id1', 'Id2', 'Id3', 'Id4']\n",
    "valores4 = [1.3, 2.4, -3.8, 1e-4]\n",
    "serie4 = pd.Series(valores4, index=indices4, name='Series4')\n",
    "serie4"
   ]
  },
  {
   "cell_type": "code",
   "execution_count": null,
   "id": "d094c010",
   "metadata": {},
   "outputs": [],
   "source": [
    "serie3['c']\n"
   ]
  },
  {
   "cell_type": "code",
   "execution_count": null,
   "id": "72afe54f",
   "metadata": {},
   "outputs": [],
   "source": [
    "serie3[['a','c']]"
   ]
  },
  {
   "cell_type": "code",
   "execution_count": null,
   "id": "20851ed5",
   "metadata": {},
   "outputs": [],
   "source": [
    "serie2.index=['Id1', 'Id2', 'Id3', 'Id4', 'Id5']\n",
    "print(serie2)\n",
    "print(serie4)\n",
    "serie2_4 = serie2 + serie4\n",
    "serie2_4"
   ]
  },
  {
   "cell_type": "code",
   "execution_count": null,
   "id": "c2a1c6b7",
   "metadata": {},
   "outputs": [],
   "source": [
    "serie4.name = 'Serie_prueba4'\n",
    "serie4.index.name = 'Ids'\n",
    "serie4"
   ]
  },
  {
   "cell_type": "markdown",
   "id": "0820e59a",
   "metadata": {},
   "source": [
    "<div class=\"alert alert-block alert-info\" style=\"margin-top: 20px\">\n",
    "\n",
    "<h2> DATAFRAMES </h2>\n",
    "    \n",
    "A DataFrame represents a rectangular table of data and contains an ordered collection\n",
    "of columns, each of which can be a different value type (numeric, string,\n",
    "boolean, etc.). The DataFrame has both a row and column index.\n",
    "\n",
    "While a DataFrame is physically two-dimensional, you can use it to\n",
    "represent higher dimensional data in a tabular format using hierarchical\n",
    "indexing."
   ]
  },
  {
   "cell_type": "code",
   "execution_count": null,
   "id": "b427a2ae",
   "metadata": {},
   "outputs": [],
   "source": [
    "# Creating a DataFrame from a dictionary of lists, arrays or tuples\n",
    "data = {'col1':[1.0, 2.0, 3.0], 'col2':[11.1, 22.2, 33.3], 'col3':[-0.1, -0.2, -0.3]}\n",
    "cols = ['col1', 'col3', 'col2']\n",
    "df1 = pd.DataFrame(data, columns=cols, index=['ind1', 'ind2', 'ind3'])\n",
    "df1"
   ]
  },
  {
   "cell_type": "code",
   "execution_count": null,
   "id": "b315e123",
   "metadata": {},
   "outputs": [],
   "source": [
    "#Creating a DataFrame from ndarray (¡¡ OJO que cada array es una FILA !!)\n",
    "import numpy as np\n",
    "data = np.array([[1.1, 2.2, 3.3], [-0.11, -0.22, -0.33], [11.0, 22.0, 33.0]])\n",
    "df2 = pd.DataFrame(data, columns=cols, index=['ind11', 'ind22', 'ind33'])\n",
    "df2"
   ]
  },
  {
   "cell_type": "code",
   "execution_count": null,
   "id": "fc0614d2",
   "metadata": {},
   "outputs": [],
   "source": [
    "#Creating a DataFrame from dictionary of Series\n",
    "df3 = pd.DataFrame({'col_serie4': serie4, 'col_serie2': serie2}, columns=['col_serie2', 'col_serie4'])\n",
    "df3"
   ]
  },
  {
   "cell_type": "code",
   "execution_count": null,
   "id": "1161e389",
   "metadata": {},
   "outputs": [],
   "source": [
    "# What if the indices are different? \n",
    "df3b = pd.DataFrame({'col_serie4': serie4, 'col_serie3': serie3}, columns=['col_serie4', 'col_serie3'])\n",
    "df3b"
   ]
  },
  {
   "cell_type": "code",
   "execution_count": null,
   "id": "90c1af6e",
   "metadata": {},
   "outputs": [],
   "source": [
    "#The name of columns set and index set\n",
    "df3.index.name = 'ÍNDICES'\n",
    "df3.columns.name = 'COLUMNAS'\n",
    "df3"
   ]
  },
  {
   "cell_type": "code",
   "execution_count": null,
   "id": "f2bfffaa",
   "metadata": {},
   "outputs": [],
   "source": [
    "# only the values as a numpy array \n",
    "values3 = df3.values\n",
    "values3"
   ]
  },
  {
   "cell_type": "code",
   "execution_count": null,
   "id": "dea075a5",
   "metadata": {},
   "outputs": [],
   "source": [
    "# type(values3)\n",
    "# type(df3.columns)"
   ]
  },
  {
   "cell_type": "markdown",
   "id": "cf152274",
   "metadata": {},
   "source": [
    "<div class=\"alert alert-block alert-info\" style=\"margin-top: 20px\">\n",
    "\n",
    "\n",
    "<h3> Indexing</h3>\n",
    "Selection of a column or a list of columns"
   ]
  },
  {
   "cell_type": "code",
   "execution_count": null,
   "id": "b86c9b30",
   "metadata": {},
   "outputs": [],
   "source": [
    "col2 = df3['col_serie2']\n",
    "col2"
   ]
  },
  {
   "cell_type": "code",
   "execution_count": null,
   "id": "31eab74d",
   "metadata": {},
   "outputs": [],
   "source": [
    "print(type(df3))\n",
    "print(type(col2))"
   ]
  },
  {
   "cell_type": "code",
   "execution_count": null,
   "id": "65165280",
   "metadata": {},
   "outputs": [],
   "source": [
    "# as a DataFrame (a list of columns)\n",
    "col2 = df3[['col_serie2']]\n",
    "col2"
   ]
  },
  {
   "cell_type": "markdown",
   "id": "2ba4aaaa",
   "metadata": {},
   "source": [
    "<div class=\"alert alert-block alert-info\" style=\"margin-top: 20px\">\n",
    "\n",
    "<h2 align=center> Important: </h2>\n",
    "The column returned from indexing a DataFrame is a <b>view</b> on the\n",
    "underlying data, not a copy. Thus, any in-place modifications to the\n",
    "Series will be reflected in the DataFrame. The column can be\n",
    "explicitly copied with the Series’s <i>copy</i> method"
   ]
  },
  {
   "cell_type": "code",
   "execution_count": null,
   "id": "3e53a577",
   "metadata": {},
   "outputs": [],
   "source": [
    "col2['Id1']=8.888\n",
    "df3"
   ]
  },
  {
   "cell_type": "markdown",
   "id": "fde1a89f",
   "metadata": {},
   "source": [
    "<div class=\"alert alert-block alert-info\" style=\"margin-top: 20px\">\n",
    "\n",
    "\n",
    "<h3> Copy()</h3>\n",
    "create a copy of the Series or DataFrame"
   ]
  },
  {
   "cell_type": "code",
   "execution_count": null,
   "id": "52f46efb",
   "metadata": {},
   "outputs": [],
   "source": [
    "col2b = df3['col_serie2'].copy()\n",
    "col2b['Id1']=9.99\n",
    "print(df3)\n",
    "print(col2b)\n"
   ]
  },
  {
   "cell_type": "markdown",
   "id": "c26fee2e",
   "metadata": {},
   "source": [
    "<div class=\"alert alert-block alert-info\" style=\"margin-top: 20px\">\n",
    "\n",
    "<h3> Add a new colum </h3>\n",
    "Writting a new column name addd a new column (from a data list, ndarray, tuple)\n"
   ]
  },
  {
   "cell_type": "code",
   "execution_count": null,
   "id": "09b29efc",
   "metadata": {},
   "outputs": [],
   "source": [
    "data5list = [5.1, 5.2, 5.3, 5.4, 5.5]\n",
    "# data5tuple = (5.1, 5.2, 5.3, 5.4, 5.5)\n",
    "# data5array = np.array(data5list)\n",
    "\n",
    "df3['col_new']= data5list\n",
    "df3"
   ]
  },
  {
   "cell_type": "markdown",
   "id": "b869b2d6",
   "metadata": {},
   "source": [
    "<div class=\"alert alert-block alert-info\" style=\"margin-top: 20px\">\n",
    "\n",
    "<h2>Index objects</h2>\n",
    "pandas’s Index objects are responsible for holding the axis labels and other metadata\n",
    "(like the axis name or names)."
   ]
  },
  {
   "cell_type": "code",
   "execution_count": null,
   "id": "03f47266",
   "metadata": {},
   "outputs": [],
   "source": [
    "indices3 = df3.index\n",
    "indices3"
   ]
  },
  {
   "cell_type": "code",
   "execution_count": null,
   "id": "7595d781",
   "metadata": {},
   "outputs": [],
   "source": [
    "data3 = df3.values\n",
    "df4 = pd.DataFrame(data3, index=indices3)\n",
    "df4"
   ]
  },
  {
   "cell_type": "code",
   "execution_count": null,
   "id": "f639b4a9",
   "metadata": {},
   "outputs": [],
   "source": [
    "df3.columns"
   ]
  },
  {
   "cell_type": "code",
   "execution_count": null,
   "id": "3b9591ad",
   "metadata": {},
   "outputs": [],
   "source": [
    "df4.columns"
   ]
  },
  {
   "cell_type": "code",
   "execution_count": null,
   "id": "29063622",
   "metadata": {},
   "outputs": [],
   "source": [
    "df3.index"
   ]
  },
  {
   "cell_type": "markdown",
   "id": "27b08bf6",
   "metadata": {},
   "source": [
    "<b>reindex</b> can alter either the (row) index, columns, or both. When\n",
    "passed only a sequence, it reindexes the rows in the result. The columns can be reindexed with the <i>columns</i> keyword."
   ]
  },
  {
   "cell_type": "code",
   "execution_count": null,
   "id": "4296acc2",
   "metadata": {},
   "outputs": [],
   "source": [
    "df3e = df3.reindex(columns=['col_serie4','col_serie2'])\n",
    "df3f = df3e.reindex(['Id1','Id2','Id3','Id5','Id4','Id6'])\n",
    "df3f"
   ]
  },
  {
   "cell_type": "code",
   "execution_count": null,
   "id": "c7b2f3cd",
   "metadata": {},
   "outputs": [],
   "source": [
    "df3g = df3.reindex(columns=['col_new','col_serie4','col_serie2'])\n",
    "df3g\n"
   ]
  },
  {
   "cell_type": "code",
   "execution_count": null,
   "id": "e400e4fa",
   "metadata": {},
   "outputs": [],
   "source": []
  },
  {
   "cell_type": "code",
   "execution_count": null,
   "id": "2fd84716",
   "metadata": {},
   "outputs": [],
   "source": []
  },
  {
   "cell_type": "code",
   "execution_count": null,
   "id": "6da90cd8",
   "metadata": {},
   "outputs": [],
   "source": []
  },
  {
   "cell_type": "markdown",
   "id": "779c5576",
   "metadata": {},
   "source": [
    "<div class=\"alert alert-block alert-info\" style=\"margin-top: 20px\">\n",
    "\n",
    "<h3>Dropping entries</h3>\n",
    "\n",
    "<b>drop</b> method will return a new object with the indicated value or values deleted from\n",
    "an axis.\n",
    "\n",
    "Delete a column or a row with the method <b>drop</b> (Drop specified labels from rows or columns).\n",
    "\n",
    "There is also a pandas method for deleting columns: <b>del</b> (<i>del df['col']</i>)\n"
   ]
  },
  {
   "cell_type": "code",
   "execution_count": null,
   "id": "bf9e96d8",
   "metadata": {},
   "outputs": [],
   "source": [
    "# df3['col_new'].del()\n",
    "df3b = df3.drop('col_new', axis='columns', inplace=False)\n",
    "print(df3)\n",
    "df3b"
   ]
  },
  {
   "cell_type": "code",
   "execution_count": null,
   "id": "bccf6a50",
   "metadata": {},
   "outputs": [],
   "source": [
    "df3c = df3.drop('Id4', axis=0)\n",
    "df3c"
   ]
  },
  {
   "cell_type": "code",
   "execution_count": null,
   "id": "a45df208",
   "metadata": {},
   "outputs": [],
   "source": [
    "df3d = df3.copy()\n",
    "df3d"
   ]
  },
  {
   "cell_type": "code",
   "execution_count": null,
   "id": "f58c6d34",
   "metadata": {},
   "outputs": [],
   "source": [
    "del df3d['col_new']\n",
    "df3d"
   ]
  },
  {
   "cell_type": "code",
   "execution_count": null,
   "id": "070917f6",
   "metadata": {},
   "outputs": [],
   "source": [
    "df3f.drop('Id6',axis=0, inplace=True)\n",
    "df3f"
   ]
  },
  {
   "cell_type": "code",
   "execution_count": null,
   "id": "bfe63a87",
   "metadata": {},
   "outputs": [],
   "source": [
    "df3"
   ]
  },
  {
   "cell_type": "markdown",
   "id": "d0f015a4",
   "metadata": {},
   "source": [
    "<div class=\"alert alert-block alert-info\" style=\"margin-top: 20px\">\n",
    "\n",
    "<h3> Selection by condition </h3>\n"
   ]
  },
  {
   "cell_type": "code",
   "execution_count": null,
   "id": "93ddfeab",
   "metadata": {},
   "outputs": [],
   "source": [
    "serie1[1:3]"
   ]
  },
  {
   "cell_type": "code",
   "execution_count": null,
   "id": "d9b47d4c",
   "metadata": {},
   "outputs": [],
   "source": [
    "serie2['Id2':'Id4']"
   ]
  },
  {
   "cell_type": "code",
   "execution_count": null,
   "id": "ad9256db",
   "metadata": {},
   "outputs": [],
   "source": [
    "df3h = df3g[['col_serie2','col_serie4']]\n",
    "df3h"
   ]
  },
  {
   "cell_type": "code",
   "execution_count": null,
   "id": "d8532ad4",
   "metadata": {},
   "outputs": [],
   "source": [
    "df3hpos = df3h[df3h['col_serie2']>0]\n",
    "df3hpos"
   ]
  },
  {
   "cell_type": "code",
   "execution_count": null,
   "id": "be29b07f",
   "metadata": {},
   "outputs": [],
   "source": [
    "df3ipos = df3h[df3h['col_serie4']>0]\n",
    "df3ipos"
   ]
  },
  {
   "cell_type": "code",
   "execution_count": null,
   "id": "14258d75",
   "metadata": {},
   "outputs": [],
   "source": [
    "df3h >0"
   ]
  },
  {
   "cell_type": "code",
   "execution_count": null,
   "id": "35627204",
   "metadata": {},
   "outputs": [],
   "source": []
  },
  {
   "cell_type": "markdown",
   "id": "4aa4f746",
   "metadata": {},
   "source": [
    "<div class=\"alert alert-block alert-info\" style=\"margin-top: 20px\">\n",
    "\n",
    "<h3> Selection with <i>loc</i> and <i>iloc</i></h3>\n",
    "<p>"
   ]
  },
  {
   "cell_type": "code",
   "execution_count": null,
   "id": "44f4d107",
   "metadata": {},
   "outputs": [],
   "source": [
    "df3h.loc['Id4']"
   ]
  },
  {
   "cell_type": "code",
   "execution_count": null,
   "id": "94e4475f",
   "metadata": {},
   "outputs": [],
   "source": [
    "df3h.loc['Id4','col_serie2']"
   ]
  },
  {
   "cell_type": "code",
   "execution_count": null,
   "id": "50a31a38",
   "metadata": {},
   "outputs": [],
   "source": [
    "df3h.loc['Id3':'Id5', 'col_serie2']"
   ]
  },
  {
   "cell_type": "code",
   "execution_count": null,
   "id": "a6901266",
   "metadata": {},
   "outputs": [],
   "source": [
    "df3h.loc[['Id3','Id5'], 'col_serie2']"
   ]
  },
  {
   "cell_type": "code",
   "execution_count": null,
   "id": "3b280ead",
   "metadata": {
    "scrolled": true
   },
   "outputs": [],
   "source": [
    "df3h.loc[df3h['col_serie2']>0, 'col_serie4']"
   ]
  },
  {
   "cell_type": "code",
   "execution_count": null,
   "id": "8a3ef7a2",
   "metadata": {},
   "outputs": [],
   "source": [
    "df3g"
   ]
  },
  {
   "cell_type": "code",
   "execution_count": null,
   "id": "9a667d70",
   "metadata": {},
   "outputs": [],
   "source": [
    "df3i = df3g.reindex(['Id1','Id2','Id3','Id4','Id5','Id4'])\n",
    "df3i"
   ]
  },
  {
   "cell_type": "code",
   "execution_count": null,
   "id": "69a07c8f",
   "metadata": {},
   "outputs": [],
   "source": [
    "df3i.loc['Id4']"
   ]
  },
  {
   "cell_type": "code",
   "execution_count": null,
   "id": "e8c5a58d",
   "metadata": {},
   "outputs": [],
   "source": [
    "df3i.iloc[3:6,:]"
   ]
  },
  {
   "cell_type": "code",
   "execution_count": null,
   "id": "238e4e02",
   "metadata": {},
   "outputs": [],
   "source": [
    "df3i.iloc[5,2]= 99.99\n",
    "df3i"
   ]
  },
  {
   "cell_type": "code",
   "execution_count": null,
   "id": "c920b694",
   "metadata": {},
   "outputs": [],
   "source": [
    "df3i.loc['Id4']"
   ]
  },
  {
   "cell_type": "code",
   "execution_count": null,
   "id": "55b21457",
   "metadata": {},
   "outputs": [],
   "source": [
    "df3i.loc['Id4'].sum()"
   ]
  },
  {
   "cell_type": "code",
   "execution_count": null,
   "id": "dd73358b",
   "metadata": {},
   "outputs": [],
   "source": [
    "df3i.iloc[[3,5],2].sum()"
   ]
  },
  {
   "cell_type": "code",
   "execution_count": null,
   "id": "5c9dc1f6",
   "metadata": {},
   "outputs": [],
   "source": []
  },
  {
   "cell_type": "code",
   "execution_count": null,
   "id": "149a7078",
   "metadata": {},
   "outputs": [],
   "source": []
  },
  {
   "cell_type": "code",
   "execution_count": null,
   "id": "6badc5cb",
   "metadata": {},
   "outputs": [],
   "source": []
  },
  {
   "cell_type": "code",
   "execution_count": null,
   "id": "f4056096",
   "metadata": {},
   "outputs": [],
   "source": []
  },
  {
   "cell_type": "markdown",
   "id": "14ac0dd7",
   "metadata": {},
   "source": [
    "<h1 id=\"data_acquisition\">Obtención de Datos</h1>\n",
    "<div class=\"alert alert-block alert-info\" style=\"margin-top: 20px\">\n",
    "    \n",
    "<p>\n",
    "Existen varios formatos para un conjunto de datos, .csv, .xlsx, .json, etc. Los datos pueden ser almacenados en distintos lugares, ya sea localmente o en línea.\n",
    "Lo más común es el formato 'csv' (Comma Separated Values) porque ocupa menos memoria y se puede leer con multitud de editores.\n",
    "Cuando hablamos de \"hojas de cálculo\" suele llevar implícito un programa para visualizar los datos y trabajar con ellos, como Excel.\n",
    "\n",
    "Nosotros trabajaremos <b>SOLO</b> con los <b>DATOS</b>, y cuando leamos un archivos Excel SOLO leeremos los datos (sin formatos, ni funciones).\n",
    "<ul>\n",
    "    <li>fuente de datos: <a href=\"https://github.com/JJ-Lab/Course_pandas/archive/refs/heads/main.zip\" target=\"_blank\">https://github.com/JJ-Lab/Course_pandas</a></li>\n",
    "    <li>tipo de datos: csv y xlsx</li>\n",
    "</ul>\n",
    "\n",
    "</div>\n",
    "\n",
    "<hr>\n"
   ]
  },
  {
   "cell_type": "markdown",
   "id": "d0379a74",
   "metadata": {},
   "source": [
    "<div class=\"alert alert-block alert-info\" style=\"margin-top: 20px\">\n",
    "\n",
    "<h3> Reading data file </h3>\n",
    "\n",
    "<b> read_csv </b> and <b>read_excel</b>"
   ]
  },
  {
   "cell_type": "code",
   "execution_count": null,
   "id": "3b7c5a31",
   "metadata": {},
   "outputs": [],
   "source": [
    "\n",
    "# Leer el archivo en línea desde la URL de arriba y asignarla a la variable \"df\"\n",
    "# other_path = \"https://s3-api.us-geo.objectstorage.softlayer.net/cf-courses-data/CognitiveClass/DA0101EN/auto.csv\"\n",
    "# df = pd.read_csv(other_path, header=None)"
   ]
  },
  {
   "cell_type": "code",
   "execution_count": null,
   "id": "ff7c9fbf",
   "metadata": {},
   "outputs": [],
   "source": [
    "df = pd.read_csv('datos_autos_clean.csv')"
   ]
  },
  {
   "cell_type": "code",
   "execution_count": null,
   "id": "c5bd43e3",
   "metadata": {},
   "outputs": [],
   "source": [
    "# Veamos el tipo de objeto que hemos creado\n",
    "type(df)"
   ]
  },
  {
   "cell_type": "code",
   "execution_count": null,
   "id": "13d4e026",
   "metadata": {},
   "outputs": [],
   "source": [
    "df.columns"
   ]
  },
  {
   "cell_type": "markdown",
   "id": "e5b347bf",
   "metadata": {},
   "source": [
    "Después de leer el conjunto de datos podemos utilizar el método <code>dataframe.head(n)</code> para revisar las primeras n filas del dataframe; donde n es un entero. Al contrario de <code>dataframe.head(n)</code>, <code>dataframe.tail(n)</code> mostrará las n filas del final del dataframe."
   ]
  },
  {
   "cell_type": "code",
   "execution_count": null,
   "id": "933e0129",
   "metadata": {},
   "outputs": [],
   "source": [
    "df.head(5)"
   ]
  },
  {
   "cell_type": "code",
   "execution_count": null,
   "id": "5aa05df7",
   "metadata": {
    "scrolled": true
   },
   "outputs": [],
   "source": [
    "df.tail(5)"
   ]
  },
  {
   "cell_type": "code",
   "execution_count": null,
   "id": "e56197d1",
   "metadata": {},
   "outputs": [],
   "source": [
    "df2 = pd.read_excel('datos_auto.xlsx')"
   ]
  },
  {
   "cell_type": "code",
   "execution_count": null,
   "id": "8c5a3af0",
   "metadata": {},
   "outputs": [],
   "source": [
    "df.head(5)"
   ]
  },
  {
   "cell_type": "code",
   "execution_count": null,
   "id": "d6600b4b",
   "metadata": {
    "scrolled": true
   },
   "outputs": [],
   "source": [
    "df2a = df2.set_index('Unnamed: 0', drop=False)\n",
    "df2a"
   ]
  },
  {
   "cell_type": "code",
   "execution_count": null,
   "id": "828c9119",
   "metadata": {
    "scrolled": true
   },
   "outputs": [],
   "source": [
    "df2"
   ]
  },
  {
   "cell_type": "code",
   "execution_count": null,
   "id": "468e730c",
   "metadata": {},
   "outputs": [],
   "source": [
    "df['body-style'].unique()"
   ]
  },
  {
   "cell_type": "code",
   "execution_count": null,
   "id": "40d61992",
   "metadata": {},
   "outputs": [],
   "source": [
    "df_sedan=df[df['body-style']=='sedan']\n",
    "df_sedan"
   ]
  },
  {
   "cell_type": "code",
   "execution_count": null,
   "id": "3a1425b2",
   "metadata": {},
   "outputs": [],
   "source": []
  },
  {
   "cell_type": "markdown",
   "id": "58edf675",
   "metadata": {},
   "source": [
    "<div class=\"alert alert-block alert-info\" style=\"margin-top: 20px\">\n",
    "\n",
    "<h3> Writting data file </h3>\n",
    "\n",
    "<b> to_csv </b> and <b>to_excel</b>"
   ]
  },
  {
   "cell_type": "code",
   "execution_count": null,
   "id": "def09d6c",
   "metadata": {},
   "outputs": [],
   "source": [
    "df3i.to_csv('df3i.csv')"
   ]
  },
  {
   "cell_type": "code",
   "execution_count": null,
   "id": "80a730ec",
   "metadata": {},
   "outputs": [],
   "source": [
    "df3i.to_excel('df3i.xlsx')"
   ]
  },
  {
   "cell_type": "markdown",
   "id": "349afb1a",
   "metadata": {},
   "source": [
    "For users of the R language for statistical computing, the DataFrame name will be\n",
    "familiar, as the object was named after the similar R data.frame object. Unlike\n",
    "Python, data frames are built into the R programming language and its standard\n",
    "library. As a result, many features found in pandas are typically either part of the R\n",
    "core implementation or provided by add-on packages."
   ]
  },
  {
   "cell_type": "code",
   "execution_count": null,
   "id": "5a7f07bb",
   "metadata": {},
   "outputs": [],
   "source": []
  },
  {
   "cell_type": "markdown",
   "id": "694520d2",
   "metadata": {},
   "source": [
    "<div class=\"alert alert-block alert-info\" style=\"margin-top: 20px\">\n",
    "\n",
    "<h2 align=center> Ejercicios </h2>"
   ]
  },
  {
   "cell_type": "markdown",
   "id": "2ef0581c",
   "metadata": {},
   "source": [
    "\n",
    "<ol>\n",
    "    <li> Crea un DataFrame con los autos que consuman menos de 10 \"city-L/100km\", con las columnas del fabricante (\"make\"), tipo de vehículo (\"body-style\"), potencia (\"horsepower\") y consumo. </li>\n",
    "    <li> Añádele una columna con el consumo en euros, multiplicando la columna de consumo por 1.9 €/l, y llámala \"city-€/100km\"</li>\n",
    "</ol>"
   ]
  },
  {
   "cell_type": "code",
   "execution_count": null,
   "id": "fe839649",
   "metadata": {},
   "outputs": [],
   "source": []
  },
  {
   "cell_type": "markdown",
   "id": "cdb18bcd",
   "metadata": {},
   "source": [
    "\n",
    "<ol>\n",
    "    <li> Lee un archivo excel y cámbiales el nombre de las columnas por 'col1', 'col2', etc. </li>\n",
    "    <li> Cámbiale el nombre a los índices por 'Id1', 'Id2', etc.</li>\n",
    "</ol>"
   ]
  },
  {
   "cell_type": "code",
   "execution_count": null,
   "id": "a9fffb8b",
   "metadata": {},
   "outputs": [],
   "source": []
  },
  {
   "cell_type": "code",
   "execution_count": null,
   "id": "e9dda477",
   "metadata": {},
   "outputs": [],
   "source": []
  }
 ],
 "metadata": {
  "kernelspec": {
   "display_name": "Python 3",
   "language": "python",
   "name": "python3"
  },
  "language_info": {
   "codemirror_mode": {
    "name": "ipython",
    "version": 3
   },
   "file_extension": ".py",
   "mimetype": "text/x-python",
   "name": "python",
   "nbconvert_exporter": "python",
   "pygments_lexer": "ipython3",
   "version": "3.8.5"
  }
 },
 "nbformat": 4,
 "nbformat_minor": 5
}
