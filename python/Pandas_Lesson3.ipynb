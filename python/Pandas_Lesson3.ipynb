{
 "cells": [
  {
   "cell_type": "markdown",
   "id": "1a665311",
   "metadata": {},
   "source": [
    "\n",
    "<div class=\"alert alert-block alert-info\" style=\"margin-top: 20px\">\n",
    " <h1 align=center id=\"data_acquisition\"> Data operations</h1>   \n",
    "<p>\n"
   ]
  },
  {
   "cell_type": "code",
   "execution_count": null,
   "id": "f856c359",
   "metadata": {},
   "outputs": [],
   "source": [
    "# Importar la librería Pandas \n",
    "import pandas as pd"
   ]
  },
  {
   "cell_type": "markdown",
   "id": "a38bf5ba",
   "metadata": {},
   "source": [
    "<div class=\"alert alert-block alert-info\" style=\"margin-top: 20px\">\n",
    "\n",
    "Handling an excel file (with data from a cytometer)"
   ]
  },
  {
   "cell_type": "code",
   "execution_count": null,
   "id": "7809c47a",
   "metadata": {},
   "outputs": [],
   "source": [
    "#  cargamos el fichero Excel\n",
    "# \n",
    "df0 = pd.read_excel('data\\HRC0001-22.xls')"
   ]
  },
  {
   "cell_type": "code",
   "execution_count": null,
   "id": "03becc35",
   "metadata": {},
   "outputs": [],
   "source": [
    "# Vemos su contenido\n",
    "df0"
   ]
  },
  {
   "cell_type": "code",
   "execution_count": null,
   "id": "233d6179",
   "metadata": {},
   "outputs": [],
   "source": [
    "# Vemos los tipos de las columnas\n",
    "df0.dtypes"
   ]
  },
  {
   "cell_type": "code",
   "execution_count": null,
   "id": "798a2027",
   "metadata": {},
   "outputs": [],
   "source": [
    "df1 = df0.copy()"
   ]
  },
  {
   "cell_type": "code",
   "execution_count": null,
   "id": "2be145a3",
   "metadata": {},
   "outputs": [],
   "source": [
    "#  Usamos la columna 'id_muestra' como índice y lo guardamos en otro DF\n",
    "df1 = df1.set_index('id_muestra')\n",
    "#  o  df1 = df0.set_index('id_muestra')"
   ]
  },
  {
   "cell_type": "code",
   "execution_count": null,
   "id": "3170339f",
   "metadata": {},
   "outputs": [],
   "source": [
    "#  Vemos su contenido\n",
    "df1.head()"
   ]
  },
  {
   "cell_type": "markdown",
   "id": "e3f0f400",
   "metadata": {},
   "source": [
    "<div class=\"alert alert-block alert-info\" style=\"margin-top: 20px\">\n",
    "\n",
    "Cambiamos los valores de alguna columna"
   ]
  },
  {
   "cell_type": "code",
   "execution_count": null,
   "id": "a0e3b567",
   "metadata": {},
   "outputs": [],
   "source": [
    "df1.index"
   ]
  },
  {
   "cell_type": "code",
   "execution_count": null,
   "id": "4b1ce14c",
   "metadata": {},
   "outputs": [],
   "source": [
    "# df2 = df1[['porcentaje_PE', 'media_PE', 'porcentaje_APC', 'media_APC']]\n",
    "# df2['media_PE_norm']= df2['media_PE']/mean_PE\n",
    "\n",
    "#  Esto da error:   A value is trying to be set on a copy of a slice from a DataFrame.\n",
    "#                   Try using .loc[row_indexer,col_indexer] = value instead\n",
    "# Creamos una copia pero solo con las columnas que nos interesan\n",
    "# CUIDADO!!!  Luego no nos deja cambiar valores por columnas!!!!!!\n",
    "\n",
    "#  Hay que crear una copia    df1[].copy()      !!!!\n",
    "# !!!!!!!!!!!!!!!!!!!!!!!\n",
    "\n",
    "df2 = df1[['Unnamed: 0','porcentaje_PE', 'media_PE', 'porcentaje_APC', 'media_APC']].copy()\n",
    "df2"
   ]
  },
  {
   "cell_type": "code",
   "execution_count": null,
   "id": "df9ba23c",
   "metadata": {},
   "outputs": [],
   "source": [
    "df2.columns"
   ]
  },
  {
   "cell_type": "code",
   "execution_count": null,
   "id": "27c708aa",
   "metadata": {},
   "outputs": [],
   "source": [
    "#  Podemos crear una nueva columna asignando valores (constantes o de operaciones con otras columnas)\n",
    "df2['media_norm_PE'] = df2['media_PE'].copy()/df2['media_PE'].mean()"
   ]
  },
  {
   "cell_type": "code",
   "execution_count": null,
   "id": "fcbf0e98",
   "metadata": {},
   "outputs": [],
   "source": [
    "df2"
   ]
  },
  {
   "cell_type": "markdown",
   "id": "a7269ab1",
   "metadata": {},
   "source": [
    "<div class=\"alert alert-block alert-info\" style=\"margin-top: 20px\">\n",
    "\n",
    "Quitamos la filas que no tienen un id_muestra (el índice es NaN)"
   ]
  },
  {
   "cell_type": "code",
   "execution_count": null,
   "id": "d4d43544",
   "metadata": {},
   "outputs": [],
   "source": [
    "df2.index"
   ]
  },
  {
   "cell_type": "code",
   "execution_count": null,
   "id": "ebd0eb6f",
   "metadata": {},
   "outputs": [],
   "source": [
    "# Buscamos los índices que son NaN (lista con todos los que son NaN y los que NO )\n",
    "df2.index.isna()"
   ]
  },
  {
   "cell_type": "code",
   "execution_count": null,
   "id": "a5ebf6dc",
   "metadata": {},
   "outputs": [],
   "source": [
    "#  Creamos lista con los índices que son NaN (selecciono los que cumplen esa condición)\n",
    "indices_nan = df2[df2.index.isna()].index\n",
    "indices_nan"
   ]
  },
  {
   "cell_type": "code",
   "execution_count": null,
   "id": "e4b2ef72",
   "metadata": {},
   "outputs": [],
   "source": [
    "# Se eliminan las filas con .drop\n",
    "#  Si queremos realmente eliminarlo hay que poner:       inplace=True\n",
    "\n",
    "df2.drop(df2[df2.index.isna()].index, inplace=True)\n",
    "# o también df2.drop(indices_nan, inplace=True)"
   ]
  },
  {
   "cell_type": "code",
   "execution_count": null,
   "id": "d4c39574",
   "metadata": {},
   "outputs": [],
   "source": [
    "df2"
   ]
  },
  {
   "cell_type": "markdown",
   "id": "358b5a01",
   "metadata": {},
   "source": [
    "<div class=\"alert alert-block alert-info\" style=\"margin-top: 20px\">\n",
    "\n",
    "Quitamos la filas que no tienen valor en 'media_PE'"
   ]
  },
  {
   "cell_type": "code",
   "execution_count": null,
   "id": "0ab79cc5",
   "metadata": {},
   "outputs": [],
   "source": [
    "# Vemos los que tienen NaN en la columna 'media_PE'\n",
    "df2[df2['media_PE'].isna()]"
   ]
  },
  {
   "cell_type": "code",
   "execution_count": null,
   "id": "c09747a9",
   "metadata": {},
   "outputs": [],
   "source": [
    "#  Ahora vemos los que NO tienen NaN en la columna 'media_PE'\n",
    "df2[df2['media_PE'].notna()]"
   ]
  },
  {
   "cell_type": "code",
   "execution_count": null,
   "id": "5ac69e59",
   "metadata": {},
   "outputs": [],
   "source": [
    "#  Creamos una copia pero SOLO con los que NO tienen NaN en la columna 'media_PE'\n",
    "df3=df2[df2['media_PE'].notna()].copy()\n",
    "df3"
   ]
  },
  {
   "cell_type": "code",
   "execution_count": null,
   "id": "13e3e490",
   "metadata": {},
   "outputs": [],
   "source": []
  },
  {
   "cell_type": "markdown",
   "id": "39af32fa",
   "metadata": {},
   "source": [
    "<div class=\"alert alert-block alert-info\" style=\"margin-top: 20px\">\n",
    "\n",
    "Y si queremos que tampoco tenga NaN en 'media_APC'"
   ]
  },
  {
   "cell_type": "code",
   "execution_count": null,
   "id": "8d602718",
   "metadata": {},
   "outputs": [],
   "source": [
    "# Creamos un nuevo DF como una copia de df3 pero SOLO con los índices que no tiene NaN en la columna 'media_APC'\n",
    "df4=df3[df3['media_APC'].notna()].copy()\n",
    "df4"
   ]
  },
  {
   "cell_type": "markdown",
   "id": "7c84382d",
   "metadata": {},
   "source": [
    "<div class=\"alert alert-block alert-info\" style=\"margin-top: 20px\">\n",
    "\n",
    "También podemos quitar muestras si hay \"NaN\" en varias columnas con subconjuntos: df.dropna(subset=[col_i, col_j])\n",
    "<p><b>dropna</b> elimina buscando los NaN</p>"
   ]
  },
  {
   "cell_type": "code",
   "execution_count": null,
   "id": "62d884c1",
   "metadata": {},
   "outputs": [],
   "source": [
    "del(df3)\n",
    "df3"
   ]
  },
  {
   "cell_type": "code",
   "execution_count": null,
   "id": "5dfd0ecf",
   "metadata": {},
   "outputs": [],
   "source": [
    "# También se puede hacer con DROPNA pero fijándonos solo en las columnas que digamos con SUBSET\n",
    "df5=df2.dropna(subset=['media_PE','media_APC'])\n",
    "df5"
   ]
  },
  {
   "cell_type": "code",
   "execution_count": null,
   "id": "7f91f324",
   "metadata": {},
   "outputs": [],
   "source": []
  },
  {
   "cell_type": "markdown",
   "id": "76ef9bf3",
   "metadata": {},
   "source": [
    "\n",
    "<div class=\"alert alert-block alert-info\" style=\"margin-top: 20px\">\n",
    "<h2 align=center id=\"data_acquisition\"> Manipulating strings</h2>  \n",
    "<p>\n"
   ]
  },
  {
   "cell_type": "code",
   "execution_count": null,
   "id": "4c3c6ee6",
   "metadata": {},
   "outputs": [],
   "source": [
    "df5.info()"
   ]
  },
  {
   "cell_type": "markdown",
   "id": "cb2d403d",
   "metadata": {},
   "source": [
    "<div class=\"alert alert-block alert-info\" style=\"margin-top: 20px\">\n",
    "\n",
    "¡¡OJO!! Los porcentajes NO los está viendo como valores numéricos"
   ]
  },
  {
   "cell_type": "code",
   "execution_count": null,
   "id": "fe48bc65",
   "metadata": {},
   "outputs": [],
   "source": [
    "df5['porcentaje_PE']"
   ]
  },
  {
   "cell_type": "code",
   "execution_count": null,
   "id": "6348928c",
   "metadata": {},
   "outputs": [],
   "source": [
    "str0 = df5.iloc[0,1]\n",
    "str0"
   ]
  },
  {
   "cell_type": "markdown",
   "id": "13723de7",
   "metadata": {},
   "source": [
    "<div class=\"alert alert-block alert-info\" style=\"margin-top: 20px\">\n",
    "\n",
    "<p><b> string.split</b>(separator):  Split a string into a list where each word is a list item, where 'separator' specifies the separator to use when splitting the string</p>"
   ]
  },
  {
   "cell_type": "code",
   "execution_count": null,
   "id": "6961788b",
   "metadata": {},
   "outputs": [],
   "source": [
    "str0_list= str0.split(' ')\n",
    "str0_list"
   ]
  },
  {
   "cell_type": "code",
   "execution_count": null,
   "id": "e3d42057",
   "metadata": {},
   "outputs": [],
   "source": [
    "# Me quedo con el primer elemento\n",
    "dato = str0_list[0]\n",
    "dato"
   ]
  },
  {
   "cell_type": "code",
   "execution_count": null,
   "id": "5fe7d79a",
   "metadata": {},
   "outputs": [],
   "source": [
    "dato*5"
   ]
  },
  {
   "cell_type": "code",
   "execution_count": null,
   "id": "5d0d5ff1",
   "metadata": {},
   "outputs": [],
   "source": [
    "type(dato)"
   ]
  },
  {
   "cell_type": "code",
   "execution_count": null,
   "id": "913125a1",
   "metadata": {},
   "outputs": [],
   "source": [
    "dato0 = float(dato)\n",
    "dato0"
   ]
  },
  {
   "cell_type": "markdown",
   "id": "b69f4881",
   "metadata": {},
   "source": [
    "<div class=\"alert alert-block alert-info\" style=\"margin-top: 20px\">\n",
    "\n",
    "<p><b> string.replace</b>(oldvalue, newvalue, count)</p>"
   ]
  },
  {
   "cell_type": "code",
   "execution_count": null,
   "id": "deb058e8",
   "metadata": {},
   "outputs": [],
   "source": [
    "dato1 = dato.replace(',','.')\n",
    "dato1"
   ]
  },
  {
   "cell_type": "code",
   "execution_count": null,
   "id": "b5a2dbbd",
   "metadata": {},
   "outputs": [],
   "source": [
    "porcent = float(dato1)\n",
    "porcent"
   ]
  },
  {
   "cell_type": "code",
   "execution_count": null,
   "id": "5017bca0",
   "metadata": {},
   "outputs": [],
   "source": [
    "type(porcent)"
   ]
  },
  {
   "cell_type": "code",
   "execution_count": null,
   "id": "7b150419",
   "metadata": {},
   "outputs": [],
   "source": [
    "for i in range(len(df5)):\n",
    "    str0 = df5.iloc[i,1]\n",
    "#     str0_list= str0.split(' ')\n",
    "    str0_0 = str0.split(' ')[0]\n",
    "#     dato1 = dato.replace(',','.')\n",
    "    porcent = float(str0_0.replace(',','.'))\n",
    "    print(porcent)"
   ]
  },
  {
   "cell_type": "code",
   "execution_count": null,
   "id": "405b3333",
   "metadata": {},
   "outputs": [],
   "source": [
    "df6 = df5.copy()"
   ]
  },
  {
   "cell_type": "markdown",
   "id": "92138957",
   "metadata": {},
   "source": [
    "<div class=\"alert alert-block alert-info\" style=\"margin-top: 20px\">\n",
    "<p><b>functions</b></p>\n",
    "<p>Lo podemos definir como una función"
   ]
  },
  {
   "cell_type": "code",
   "execution_count": null,
   "id": "583afd3a",
   "metadata": {},
   "outputs": [],
   "source": [
    "def value_porcent(cell_str):\n",
    "#     !!! Obtains the value of a porcentage (string)\n",
    "    if cell_str[-1] == '%':\n",
    "        num_str = cell_str[:-2]\n",
    "        value = float(num_str.replace(',', '.'))\n",
    "        print('celda: ', cell_str,'; valor del porcentaje:', value)\n",
    "        return value\n",
    "    else:\n",
    "        return np.NaN"
   ]
  },
  {
   "cell_type": "code",
   "execution_count": null,
   "id": "600eb501",
   "metadata": {
    "scrolled": true
   },
   "outputs": [],
   "source": [
    "porcentajes = []\n",
    "for i in range(len(df5)):\n",
    "    porcentajes.append(value_porcent(df5.iloc[i,1]))\n",
    "    df6.iloc[i,1] = porcentajes[i]\n",
    "df6"
   ]
  },
  {
   "cell_type": "code",
   "execution_count": null,
   "id": "b50d522c",
   "metadata": {},
   "outputs": [],
   "source": [
    "df6['porcentaje_PE'].mean()"
   ]
  },
  {
   "cell_type": "markdown",
   "id": "5ad4ae26",
   "metadata": {},
   "source": [
    "<div class=\"alert alert-block alert-info\" style=\"margin-top: 20px\">\n",
    "cambiamos el nombre a la columna"
   ]
  },
  {
   "cell_type": "code",
   "execution_count": null,
   "id": "a1eba649",
   "metadata": {},
   "outputs": [],
   "source": [
    "df6.rename(columns={'Unnamed: 0':'names'}, inplace=True)\n",
    "df6.columns"
   ]
  },
  {
   "cell_type": "markdown",
   "id": "1c82476c",
   "metadata": {},
   "source": [
    "<div class=\"alert alert-block alert-info\" style=\"margin-top: 20px\">\n",
    "Vamos a extraer información de un string"
   ]
  },
  {
   "cell_type": "code",
   "execution_count": null,
   "id": "346b73e7",
   "metadata": {},
   "outputs": [],
   "source": [
    "name0 = df6.iloc[0,0]\n",
    "name0"
   ]
  },
  {
   "cell_type": "code",
   "execution_count": null,
   "id": "83e94ed1",
   "metadata": {},
   "outputs": [],
   "source": [
    "name0_chop = name0.split(' ')\n",
    "name0_chop"
   ]
  },
  {
   "cell_type": "code",
   "execution_count": null,
   "id": "d9bec99c",
   "metadata": {},
   "outputs": [],
   "source": [
    "marker = name0_chop[1]\n",
    "marker"
   ]
  },
  {
   "cell_type": "code",
   "execution_count": null,
   "id": "6bc0fb57",
   "metadata": {},
   "outputs": [],
   "source": [
    "for i in range(len(df6)):\n",
    "    name0 = df6.iloc[i,0]\n",
    "    name0_chop = name0.split(' ')\n",
    "    marker = name0_chop[1]\n",
    "    print(marker)"
   ]
  },
  {
   "cell_type": "code",
   "execution_count": null,
   "id": "c62416fe",
   "metadata": {},
   "outputs": [],
   "source": [
    "# cuando es CONTROL no hay marcador\n",
    "for i in range(len(df6)):\n",
    "    name0 = df6.iloc[i,0]\n",
    "    name0_chop = name0.split(' ')\n",
    "    marker = name0_chop[1]\n",
    "    if len(name0_chop)>2 :\n",
    "        print(i,marker)\n",
    "    else:\n",
    "        print('CONTROL')"
   ]
  },
  {
   "cell_type": "code",
   "execution_count": null,
   "id": "1223d3ed",
   "metadata": {},
   "outputs": [],
   "source": [
    "df7 = df6.copy()"
   ]
  },
  {
   "cell_type": "code",
   "execution_count": null,
   "id": "2e198cef",
   "metadata": {},
   "outputs": [],
   "source": [
    "df6['marker']=''"
   ]
  },
  {
   "cell_type": "code",
   "execution_count": null,
   "id": "0c3b0cc2",
   "metadata": {},
   "outputs": [],
   "source": [
    "df6.columns"
   ]
  },
  {
   "cell_type": "code",
   "execution_count": null,
   "id": "2c61ee7f",
   "metadata": {},
   "outputs": [],
   "source": [
    "# guardarmos el marcador en una columna\n",
    "for i in range(len(df6)):\n",
    "    ind = df6.index[i]\n",
    "    name0 = df6.iloc[i,0]\n",
    "    name0_chop = name0.split(' ')\n",
    "    marker = name0_chop[1]\n",
    "    if len(name0_chop)>2 :\n",
    "        df6.iloc[i,6] = marker\n",
    "        print(i,marker, ind,name0,':',df6.iloc[i,6])\n",
    "        \n",
    "    else:\n",
    "        print('CONTROL')\n",
    "        df6.iloc[i,6] = 'CONTROL'"
   ]
  },
  {
   "cell_type": "code",
   "execution_count": null,
   "id": "751f4c48",
   "metadata": {},
   "outputs": [],
   "source": [
    "df6"
   ]
  },
  {
   "cell_type": "code",
   "execution_count": null,
   "id": "cf76d6a8",
   "metadata": {},
   "outputs": [],
   "source": []
  },
  {
   "cell_type": "code",
   "execution_count": null,
   "id": "7345a750",
   "metadata": {},
   "outputs": [],
   "source": [
    "df6.to_excel('df6.xlsx')"
   ]
  },
  {
   "cell_type": "code",
   "execution_count": null,
   "id": "1866ec71",
   "metadata": {},
   "outputs": [],
   "source": []
  },
  {
   "cell_type": "markdown",
   "id": "6867824e",
   "metadata": {},
   "source": [
    "\n",
    "<div class=\"alert alert-block alert-info\" style=\"margin-top: 20px\">\n",
    "<h2 align=center id=\"data_acquisition\"> Sorting ang Ranking</h2>  \n",
    "<p>\n"
   ]
  },
  {
   "cell_type": "code",
   "execution_count": null,
   "id": "d3c7226f",
   "metadata": {},
   "outputs": [],
   "source": []
  },
  {
   "cell_type": "code",
   "execution_count": null,
   "id": "de3ff6ae",
   "metadata": {},
   "outputs": [],
   "source": []
  },
  {
   "cell_type": "code",
   "execution_count": null,
   "id": "1c5334ee",
   "metadata": {},
   "outputs": [],
   "source": []
  },
  {
   "cell_type": "code",
   "execution_count": null,
   "id": "10a534f8",
   "metadata": {},
   "outputs": [],
   "source": []
  },
  {
   "cell_type": "code",
   "execution_count": null,
   "id": "d35407a7",
   "metadata": {},
   "outputs": [],
   "source": []
  },
  {
   "cell_type": "code",
   "execution_count": null,
   "id": "44f44912",
   "metadata": {},
   "outputs": [],
   "source": []
  },
  {
   "cell_type": "code",
   "execution_count": null,
   "id": "59943abe",
   "metadata": {},
   "outputs": [],
   "source": []
  }
 ],
 "metadata": {
  "kernelspec": {
   "display_name": "Python 3",
   "language": "python",
   "name": "python3"
  },
  "language_info": {
   "codemirror_mode": {
    "name": "ipython",
    "version": 3
   },
   "file_extension": ".py",
   "mimetype": "text/x-python",
   "name": "python",
   "nbconvert_exporter": "python",
   "pygments_lexer": "ipython3",
   "version": "3.8.5"
  }
 },
 "nbformat": 4,
 "nbformat_minor": 5
}
