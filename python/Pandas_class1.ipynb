{
 "cells": [
  {
   "cell_type": "markdown",
   "id": "b2418d3c",
   "metadata": {},
   "source": [
    "\n",
    "<h1 id=\"data_acquisition\">1. Obtención de Datos</h1>\n",
    "<div class=\"alert alert-block alert-info\" style=\"margin-top: 20px\">\n",
    "    \n",
    "<p>\n",
    "Existen varios formatos para un conjunto de datos, .csv, .xlsx, .json, etc. Los datos pueden ser almacenados en distintos lugares, ya sea localmente o en línea.\n",
    "Lo más común es el formato 'csv' (Comma Separated Values) porque ocupa menos memoria y se puede leer con multitud de editores.\n",
    "Cuando hablamos de \"hojas de cálculo\" suele llevar implícito un programa para visualizar los datos y trabajar con ellos, como Excel.\n",
    "\n",
    "Nosotros trabajaremos <b>SOLO</b> con los <b>DATOS</b>, y cuando leamos un archivos Excel SOLO leeremos los datos (sin formatos, ni funciones).\n",
    "<ul>\n",
    "    <li>fuente de datos: <a href=\"https://archive.ics.uci.edu/ml/machine-learning-databases/autos/imports-85.data?utm_medium=Exinfluencer&utm_source=Exinfluencer&utm_content=000026UJ&utm_term=10006555&utm_id=NA-SkillsNetwork-Channel-SkillsNetworkCoursesIBMDeveloperSkillsNetworkDA0101ESedX20601300-2021-01-01\" target=\"_blank\">https://archive.ics.uci.edu/ml/machine-learning-databases/autos/imports-85.data</a></li>\n",
    "    <li>tipo de datos: csv</li>\n",
    "</ul>\n",
    "\n",
    "</div>\n",
    "\n",
    "<hr>\n"
   ]
  },
  {
   "cell_type": "code",
   "execution_count": 1,
   "id": "d94a2e9e",
   "metadata": {},
   "outputs": [],
   "source": [
    "# Importar la librería Pandas \n",
    "import pandas as pd"
   ]
  },
  {
   "cell_type": "markdown",
   "id": "4dae19c8",
   "metadata": {},
   "source": [
    "The \"<b>pandas</b>\" name itself is derived from <i>panel data</i>, an econometrics term for multidimensional\n",
    "structured datasets, and a play on the phrase Python data analysis itself."
   ]
  },
  {
   "cell_type": "markdown",
   "id": "61708056",
   "metadata": {},
   "source": [
    "There are two main data structures: <b>DataFrame</b> and <b>Series</b>"
   ]
  },
  {
   "cell_type": "markdown",
   "id": "9efa72be",
   "metadata": {},
   "source": [
    "<h2> SERIES </h2>"
   ]
  },
  {
   "cell_type": "markdown",
   "id": "a5df5ee6",
   "metadata": {},
   "source": [
    "A Series is a one-dimensional array-like object containing a sequence of <b>values</b> (of\n",
    "    similar types to NumPy types) and an associated array of data labels, called its <b>index</b>"
   ]
  },
  {
   "cell_type": "code",
   "execution_count": 2,
   "id": "4370fa53",
   "metadata": {},
   "outputs": [
    {
     "data": {
      "text/plain": [
       "0    8\n",
       "1    9\n",
       "2    0\n",
       "3   -5\n",
       "4    7\n",
       "dtype: int64"
      ]
     },
     "execution_count": 2,
     "metadata": {},
     "output_type": "execute_result"
    }
   ],
   "source": [
    "#Series (dtype: int64)\n",
    "serie1 = pd.Series([8,9,0,-5,7])\n",
    "serie1"
   ]
  },
  {
   "cell_type": "code",
   "execution_count": 3,
   "id": "56efa19b",
   "metadata": {},
   "outputs": [
    {
     "data": {
      "text/plain": [
       "0    8.0\n",
       "1    9.0\n",
       "2    0.0\n",
       "3   -5.0\n",
       "4    7.0\n",
       "dtype: float64"
      ]
     },
     "execution_count": 3,
     "metadata": {},
     "output_type": "execute_result"
    }
   ],
   "source": [
    "#Series (dtype: float64)\n",
    "serie2 = pd.Series([8.0, 9, 0, -5, 7])\n",
    "serie2"
   ]
  },
  {
   "cell_type": "code",
   "execution_count": 4,
   "id": "83d58bc0",
   "metadata": {},
   "outputs": [
    {
     "data": {
      "text/plain": [
       "0    poco\n",
       "1       9\n",
       "2       0\n",
       "3      -5\n",
       "4       7\n",
       "dtype: object"
      ]
     },
     "execution_count": 4,
     "metadata": {},
     "output_type": "execute_result"
    }
   ],
   "source": [
    "#Series (dtype: object)\n",
    "serie3 = pd.Series(['poco', 9, 0,-5,7])\n",
    "serie3"
   ]
  },
  {
   "cell_type": "code",
   "execution_count": 5,
   "id": "4b6bd851",
   "metadata": {},
   "outputs": [
    {
     "name": "stdout",
     "output_type": "stream",
     "text": [
      "0    32\n",
      "1    36\n",
      "2     0\n",
      "3   -20\n",
      "4    28\n",
      "dtype: int64\n",
      "0    32.0\n",
      "1    36.0\n",
      "2     0.0\n",
      "3   -20.0\n",
      "4    28.0\n",
      "dtype: float64\n",
      "0    pocopocopocopoco\n",
      "1                  36\n",
      "2                   0\n",
      "3                 -20\n",
      "4                  28\n",
      "dtype: object\n"
     ]
    }
   ],
   "source": [
    "print(serie1*4)\n",
    "print(serie2*4)\n",
    "print(serie3*4)"
   ]
  },
  {
   "cell_type": "code",
   "execution_count": 6,
   "id": "5b171410",
   "metadata": {},
   "outputs": [
    {
     "name": "stdout",
     "output_type": "stream",
     "text": [
      "RangeIndex(start=0, stop=5, step=1)\n",
      "['poco' 9 0 -5 7]\n"
     ]
    }
   ],
   "source": [
    "print(serie3.index)\n",
    "print(serie3.values)"
   ]
  },
  {
   "cell_type": "code",
   "execution_count": 7,
   "id": "9607942f",
   "metadata": {},
   "outputs": [
    {
     "name": "stdout",
     "output_type": "stream",
     "text": [
      "a    poco\n",
      "b       9\n",
      "c       0\n",
      "d      -5\n",
      "e       7\n",
      "dtype: object\n"
     ]
    }
   ],
   "source": [
    "serie3.index=['a','b','c','d','e']\n",
    "serie3.index\n",
    "print(serie3)"
   ]
  },
  {
   "cell_type": "code",
   "execution_count": 8,
   "id": "6b45aaf3",
   "metadata": {},
   "outputs": [
    {
     "data": {
      "text/plain": [
       "Id1    1.3000\n",
       "Id2    2.4000\n",
       "Id3   -3.8000\n",
       "Id4    0.0001\n",
       "dtype: float64"
      ]
     },
     "execution_count": 8,
     "metadata": {},
     "output_type": "execute_result"
    }
   ],
   "source": [
    "indices4 = ['Id1', 'Id2', 'Id3', 'Id4']\n",
    "valores4 = [1.3, 2.4, -3.8, 1e-4]\n",
    "serie4 = pd.Series(valores4, index=indices4)\n",
    "serie4"
   ]
  },
  {
   "cell_type": "code",
   "execution_count": 10,
   "id": "4bbccd3f",
   "metadata": {},
   "outputs": [
    {
     "data": {
      "text/plain": [
       "'poco'"
      ]
     },
     "execution_count": 10,
     "metadata": {},
     "output_type": "execute_result"
    }
   ],
   "source": [
    "serie3['a']\n"
   ]
  },
  {
   "cell_type": "code",
   "execution_count": 13,
   "id": "64fd81d4",
   "metadata": {},
   "outputs": [
    {
     "data": {
      "text/plain": [
       "a    poco\n",
       "c       0\n",
       "dtype: object"
      ]
     },
     "execution_count": 13,
     "metadata": {},
     "output_type": "execute_result"
    }
   ],
   "source": [
    "serie3[['a','c']]"
   ]
  },
  {
   "cell_type": "code",
   "execution_count": 14,
   "id": "9972a09a",
   "metadata": {},
   "outputs": [
    {
     "name": "stdout",
     "output_type": "stream",
     "text": [
      "Id1    8.0\n",
      "Id2    9.0\n",
      "Id3    0.0\n",
      "Id4   -5.0\n",
      "Id5    7.0\n",
      "dtype: float64\n"
     ]
    },
    {
     "data": {
      "text/plain": [
       "Id1     9.3000\n",
       "Id2    11.4000\n",
       "Id3    -3.8000\n",
       "Id4    -4.9999\n",
       "Id5        NaN\n",
       "dtype: float64"
      ]
     },
     "execution_count": 14,
     "metadata": {},
     "output_type": "execute_result"
    }
   ],
   "source": [
    "serie2.index=['Id1', 'Id2', 'Id3', 'Id4', 'Id5']\n",
    "print(serie2)\n",
    "serie2_4 = serie2 + serie4\n",
    "serie2_4"
   ]
  },
  {
   "cell_type": "code",
   "execution_count": 15,
   "id": "ccc78651",
   "metadata": {},
   "outputs": [
    {
     "data": {
      "text/plain": [
       "Ids\n",
       "Id1    1.3000\n",
       "Id2    2.4000\n",
       "Id3   -3.8000\n",
       "Id4    0.0001\n",
       "Name: Serie_prueba4, dtype: float64"
      ]
     },
     "execution_count": 15,
     "metadata": {},
     "output_type": "execute_result"
    }
   ],
   "source": [
    "serie4.name = 'Serie_prueba4'\n",
    "serie4.index.name = 'Ids'\n",
    "serie4"
   ]
  },
  {
   "cell_type": "markdown",
   "id": "c554870e",
   "metadata": {},
   "source": [
    "<h2> DATAFRAMES </h2>"
   ]
  },
  {
   "cell_type": "markdown",
   "id": "9dd7e0b3",
   "metadata": {},
   "source": [
    "A DataFrame represents a rectangular table of data and contains an ordered collection\n",
    "of columns, each of which can be a different value type (numeric, string,\n",
    "boolean, etc.). The DataFrame has both a row and column index.\n",
    "\n",
    "While a DataFrame is physically two-dimensional, you can use it to\n",
    "represent higher dimensional data in a tabular format using hierarchical\n",
    "indexing."
   ]
  },
  {
   "cell_type": "code",
   "execution_count": 16,
   "id": "11902204",
   "metadata": {},
   "outputs": [
    {
     "data": {
      "text/html": [
       "<div>\n",
       "<style scoped>\n",
       "    .dataframe tbody tr th:only-of-type {\n",
       "        vertical-align: middle;\n",
       "    }\n",
       "\n",
       "    .dataframe tbody tr th {\n",
       "        vertical-align: top;\n",
       "    }\n",
       "\n",
       "    .dataframe thead th {\n",
       "        text-align: right;\n",
       "    }\n",
       "</style>\n",
       "<table border=\"1\" class=\"dataframe\">\n",
       "  <thead>\n",
       "    <tr style=\"text-align: right;\">\n",
       "      <th></th>\n",
       "      <th>col1</th>\n",
       "      <th>col3</th>\n",
       "      <th>col2</th>\n",
       "    </tr>\n",
       "  </thead>\n",
       "  <tbody>\n",
       "    <tr>\n",
       "      <th>ind1</th>\n",
       "      <td>1.0</td>\n",
       "      <td>-0.1</td>\n",
       "      <td>11.1</td>\n",
       "    </tr>\n",
       "    <tr>\n",
       "      <th>ind2</th>\n",
       "      <td>2.0</td>\n",
       "      <td>-0.2</td>\n",
       "      <td>22.2</td>\n",
       "    </tr>\n",
       "    <tr>\n",
       "      <th>ind3</th>\n",
       "      <td>3.0</td>\n",
       "      <td>-0.3</td>\n",
       "      <td>33.3</td>\n",
       "    </tr>\n",
       "  </tbody>\n",
       "</table>\n",
       "</div>"
      ],
      "text/plain": [
       "      col1  col3  col2\n",
       "ind1   1.0  -0.1  11.1\n",
       "ind2   2.0  -0.2  22.2\n",
       "ind3   3.0  -0.3  33.3"
      ]
     },
     "execution_count": 16,
     "metadata": {},
     "output_type": "execute_result"
    }
   ],
   "source": [
    "# Creating a DataFrame from a dictionary of lists, arrays or tuples\n",
    "data = {'col1':[1.0, 2.0, 3.0], 'col2':[11.1, 22.2, 33.3], 'col3':[-0.1, -0.2, -0.3]}\n",
    "cols = ['col1', 'col3', 'col2']\n",
    "df1 = pd.DataFrame(data, columns=cols, index=['ind1', 'ind2', 'ind3'])\n",
    "df1"
   ]
  },
  {
   "cell_type": "code",
   "execution_count": 17,
   "id": "75746657",
   "metadata": {},
   "outputs": [
    {
     "data": {
      "text/html": [
       "<div>\n",
       "<style scoped>\n",
       "    .dataframe tbody tr th:only-of-type {\n",
       "        vertical-align: middle;\n",
       "    }\n",
       "\n",
       "    .dataframe tbody tr th {\n",
       "        vertical-align: top;\n",
       "    }\n",
       "\n",
       "    .dataframe thead th {\n",
       "        text-align: right;\n",
       "    }\n",
       "</style>\n",
       "<table border=\"1\" class=\"dataframe\">\n",
       "  <thead>\n",
       "    <tr style=\"text-align: right;\">\n",
       "      <th></th>\n",
       "      <th>col1</th>\n",
       "      <th>col3</th>\n",
       "      <th>col2</th>\n",
       "    </tr>\n",
       "  </thead>\n",
       "  <tbody>\n",
       "    <tr>\n",
       "      <th>ind11</th>\n",
       "      <td>1.10</td>\n",
       "      <td>2.20</td>\n",
       "      <td>3.30</td>\n",
       "    </tr>\n",
       "    <tr>\n",
       "      <th>ind22</th>\n",
       "      <td>-0.11</td>\n",
       "      <td>-0.22</td>\n",
       "      <td>-0.33</td>\n",
       "    </tr>\n",
       "    <tr>\n",
       "      <th>ind33</th>\n",
       "      <td>11.00</td>\n",
       "      <td>22.00</td>\n",
       "      <td>33.00</td>\n",
       "    </tr>\n",
       "  </tbody>\n",
       "</table>\n",
       "</div>"
      ],
      "text/plain": [
       "        col1   col3   col2\n",
       "ind11   1.10   2.20   3.30\n",
       "ind22  -0.11  -0.22  -0.33\n",
       "ind33  11.00  22.00  33.00"
      ]
     },
     "execution_count": 17,
     "metadata": {},
     "output_type": "execute_result"
    }
   ],
   "source": [
    "#Creating a DataFrame from ndarray\n",
    "import numpy as np\n",
    "data = np.array([[1.1, 2.2, 3.3], [-0.11, -0.22, -0.33], [11.0, 22.0, 33.0]])\n",
    "df2 = pd.DataFrame(data, columns=cols, index=['ind11', 'ind22', 'ind33'])\n",
    "df2"
   ]
  },
  {
   "cell_type": "code",
   "execution_count": 18,
   "id": "258f7027",
   "metadata": {},
   "outputs": [
    {
     "data": {
      "text/html": [
       "<div>\n",
       "<style scoped>\n",
       "    .dataframe tbody tr th:only-of-type {\n",
       "        vertical-align: middle;\n",
       "    }\n",
       "\n",
       "    .dataframe tbody tr th {\n",
       "        vertical-align: top;\n",
       "    }\n",
       "\n",
       "    .dataframe thead th {\n",
       "        text-align: right;\n",
       "    }\n",
       "</style>\n",
       "<table border=\"1\" class=\"dataframe\">\n",
       "  <thead>\n",
       "    <tr style=\"text-align: right;\">\n",
       "      <th></th>\n",
       "      <th>col_serie2</th>\n",
       "      <th>col_serie4</th>\n",
       "    </tr>\n",
       "  </thead>\n",
       "  <tbody>\n",
       "    <tr>\n",
       "      <th>Id1</th>\n",
       "      <td>8.0</td>\n",
       "      <td>1.3000</td>\n",
       "    </tr>\n",
       "    <tr>\n",
       "      <th>Id2</th>\n",
       "      <td>9.0</td>\n",
       "      <td>2.4000</td>\n",
       "    </tr>\n",
       "    <tr>\n",
       "      <th>Id3</th>\n",
       "      <td>0.0</td>\n",
       "      <td>-3.8000</td>\n",
       "    </tr>\n",
       "    <tr>\n",
       "      <th>Id4</th>\n",
       "      <td>-5.0</td>\n",
       "      <td>0.0001</td>\n",
       "    </tr>\n",
       "    <tr>\n",
       "      <th>Id5</th>\n",
       "      <td>7.0</td>\n",
       "      <td>NaN</td>\n",
       "    </tr>\n",
       "  </tbody>\n",
       "</table>\n",
       "</div>"
      ],
      "text/plain": [
       "     col_serie2  col_serie4\n",
       "Id1         8.0      1.3000\n",
       "Id2         9.0      2.4000\n",
       "Id3         0.0     -3.8000\n",
       "Id4        -5.0      0.0001\n",
       "Id5         7.0         NaN"
      ]
     },
     "execution_count": 18,
     "metadata": {},
     "output_type": "execute_result"
    }
   ],
   "source": [
    "#Creating a DataFrame from dictionary of Series\n",
    "df3 = pd.DataFrame({'col_serie4': serie4, 'col_serie2': serie2}, columns=['col_serie2', 'col_serie4'])\n",
    "df3"
   ]
  },
  {
   "cell_type": "code",
   "execution_count": 19,
   "id": "940cfd8d",
   "metadata": {},
   "outputs": [
    {
     "data": {
      "text/html": [
       "<div>\n",
       "<style scoped>\n",
       "    .dataframe tbody tr th:only-of-type {\n",
       "        vertical-align: middle;\n",
       "    }\n",
       "\n",
       "    .dataframe tbody tr th {\n",
       "        vertical-align: top;\n",
       "    }\n",
       "\n",
       "    .dataframe thead th {\n",
       "        text-align: right;\n",
       "    }\n",
       "</style>\n",
       "<table border=\"1\" class=\"dataframe\">\n",
       "  <thead>\n",
       "    <tr style=\"text-align: right;\">\n",
       "      <th></th>\n",
       "      <th>col_serie4</th>\n",
       "      <th>col_serie3</th>\n",
       "    </tr>\n",
       "  </thead>\n",
       "  <tbody>\n",
       "    <tr>\n",
       "      <th>Id1</th>\n",
       "      <td>1.3000</td>\n",
       "      <td>NaN</td>\n",
       "    </tr>\n",
       "    <tr>\n",
       "      <th>Id2</th>\n",
       "      <td>2.4000</td>\n",
       "      <td>NaN</td>\n",
       "    </tr>\n",
       "    <tr>\n",
       "      <th>Id3</th>\n",
       "      <td>-3.8000</td>\n",
       "      <td>NaN</td>\n",
       "    </tr>\n",
       "    <tr>\n",
       "      <th>Id4</th>\n",
       "      <td>0.0001</td>\n",
       "      <td>NaN</td>\n",
       "    </tr>\n",
       "    <tr>\n",
       "      <th>a</th>\n",
       "      <td>NaN</td>\n",
       "      <td>poco</td>\n",
       "    </tr>\n",
       "    <tr>\n",
       "      <th>b</th>\n",
       "      <td>NaN</td>\n",
       "      <td>9</td>\n",
       "    </tr>\n",
       "    <tr>\n",
       "      <th>c</th>\n",
       "      <td>NaN</td>\n",
       "      <td>0</td>\n",
       "    </tr>\n",
       "    <tr>\n",
       "      <th>d</th>\n",
       "      <td>NaN</td>\n",
       "      <td>-5</td>\n",
       "    </tr>\n",
       "    <tr>\n",
       "      <th>e</th>\n",
       "      <td>NaN</td>\n",
       "      <td>7</td>\n",
       "    </tr>\n",
       "  </tbody>\n",
       "</table>\n",
       "</div>"
      ],
      "text/plain": [
       "     col_serie4 col_serie3\n",
       "Id1      1.3000        NaN\n",
       "Id2      2.4000        NaN\n",
       "Id3     -3.8000        NaN\n",
       "Id4      0.0001        NaN\n",
       "a           NaN       poco\n",
       "b           NaN          9\n",
       "c           NaN          0\n",
       "d           NaN         -5\n",
       "e           NaN          7"
      ]
     },
     "execution_count": 19,
     "metadata": {},
     "output_type": "execute_result"
    }
   ],
   "source": [
    "df3b = pd.DataFrame({'col_serie4': serie4, 'col_serie3': serie3}, columns=['col_serie4', 'col_serie3'])\n",
    "df3b"
   ]
  },
  {
   "cell_type": "code",
   "execution_count": 20,
   "id": "8c3d99f6",
   "metadata": {},
   "outputs": [
    {
     "data": {
      "text/html": [
       "<div>\n",
       "<style scoped>\n",
       "    .dataframe tbody tr th:only-of-type {\n",
       "        vertical-align: middle;\n",
       "    }\n",
       "\n",
       "    .dataframe tbody tr th {\n",
       "        vertical-align: top;\n",
       "    }\n",
       "\n",
       "    .dataframe thead th {\n",
       "        text-align: right;\n",
       "    }\n",
       "</style>\n",
       "<table border=\"1\" class=\"dataframe\">\n",
       "  <thead>\n",
       "    <tr style=\"text-align: right;\">\n",
       "      <th>COLUMNAS</th>\n",
       "      <th>col_serie2</th>\n",
       "      <th>col_serie4</th>\n",
       "    </tr>\n",
       "    <tr>\n",
       "      <th>ÍNDICES</th>\n",
       "      <th></th>\n",
       "      <th></th>\n",
       "    </tr>\n",
       "  </thead>\n",
       "  <tbody>\n",
       "    <tr>\n",
       "      <th>Id1</th>\n",
       "      <td>8.0</td>\n",
       "      <td>1.3000</td>\n",
       "    </tr>\n",
       "    <tr>\n",
       "      <th>Id2</th>\n",
       "      <td>9.0</td>\n",
       "      <td>2.4000</td>\n",
       "    </tr>\n",
       "    <tr>\n",
       "      <th>Id3</th>\n",
       "      <td>0.0</td>\n",
       "      <td>-3.8000</td>\n",
       "    </tr>\n",
       "    <tr>\n",
       "      <th>Id4</th>\n",
       "      <td>-5.0</td>\n",
       "      <td>0.0001</td>\n",
       "    </tr>\n",
       "    <tr>\n",
       "      <th>Id5</th>\n",
       "      <td>7.0</td>\n",
       "      <td>NaN</td>\n",
       "    </tr>\n",
       "  </tbody>\n",
       "</table>\n",
       "</div>"
      ],
      "text/plain": [
       "COLUMNAS  col_serie2  col_serie4\n",
       "ÍNDICES                         \n",
       "Id1              8.0      1.3000\n",
       "Id2              9.0      2.4000\n",
       "Id3              0.0     -3.8000\n",
       "Id4             -5.0      0.0001\n",
       "Id5              7.0         NaN"
      ]
     },
     "execution_count": 20,
     "metadata": {},
     "output_type": "execute_result"
    }
   ],
   "source": [
    "df3.index.name = 'ÍNDICES'\n",
    "df3.columns.name = 'COLUMNAS'\n",
    "df3"
   ]
  },
  {
   "cell_type": "code",
   "execution_count": 21,
   "id": "cbc17963",
   "metadata": {},
   "outputs": [
    {
     "data": {
      "text/plain": [
       "array([[ 8.0e+00,  1.3e+00],\n",
       "       [ 9.0e+00,  2.4e+00],\n",
       "       [ 0.0e+00, -3.8e+00],\n",
       "       [-5.0e+00,  1.0e-04],\n",
       "       [ 7.0e+00,      nan]])"
      ]
     },
     "execution_count": 21,
     "metadata": {},
     "output_type": "execute_result"
    }
   ],
   "source": [
    "df3.values"
   ]
  },
  {
   "cell_type": "code",
   "execution_count": null,
   "id": "92a16cd8",
   "metadata": {},
   "outputs": [],
   "source": []
  },
  {
   "cell_type": "markdown",
   "id": "0a33b486",
   "metadata": {},
   "source": [
    "<h2 align=center> Important: </h2>\n",
    "The column returned from indexing a DataFrame is a <b>view</b> on the\n",
    "underlying data, not a copy. Thus, any in-place modifications to the\n",
    "Series will be reflected in the DataFrame. The column can be\n",
    "explicitly copied with the Series’s <i>copy</i> method"
   ]
  },
  {
   "cell_type": "code",
   "execution_count": 22,
   "id": "a8c601d9",
   "metadata": {},
   "outputs": [
    {
     "data": {
      "text/plain": [
       "ÍNDICES\n",
       "Id1    8.0\n",
       "Id2    9.0\n",
       "Id3    0.0\n",
       "Id4   -5.0\n",
       "Id5    7.0\n",
       "Name: col_serie2, dtype: float64"
      ]
     },
     "execution_count": 22,
     "metadata": {},
     "output_type": "execute_result"
    }
   ],
   "source": [
    "col2 = df3['col_serie2']\n",
    "col2"
   ]
  },
  {
   "cell_type": "code",
   "execution_count": 23,
   "id": "e0b78d9e",
   "metadata": {},
   "outputs": [
    {
     "name": "stdout",
     "output_type": "stream",
     "text": [
      "<class 'pandas.core.frame.DataFrame'>\n",
      "<class 'pandas.core.series.Series'>\n"
     ]
    }
   ],
   "source": [
    "print(type(df3))\n",
    "print(type(col2))"
   ]
  },
  {
   "cell_type": "code",
   "execution_count": 24,
   "id": "30eea42e",
   "metadata": {},
   "outputs": [
    {
     "data": {
      "text/html": [
       "<div>\n",
       "<style scoped>\n",
       "    .dataframe tbody tr th:only-of-type {\n",
       "        vertical-align: middle;\n",
       "    }\n",
       "\n",
       "    .dataframe tbody tr th {\n",
       "        vertical-align: top;\n",
       "    }\n",
       "\n",
       "    .dataframe thead th {\n",
       "        text-align: right;\n",
       "    }\n",
       "</style>\n",
       "<table border=\"1\" class=\"dataframe\">\n",
       "  <thead>\n",
       "    <tr style=\"text-align: right;\">\n",
       "      <th>COLUMNAS</th>\n",
       "      <th>col_serie2</th>\n",
       "      <th>col_serie4</th>\n",
       "    </tr>\n",
       "    <tr>\n",
       "      <th>ÍNDICES</th>\n",
       "      <th></th>\n",
       "      <th></th>\n",
       "    </tr>\n",
       "  </thead>\n",
       "  <tbody>\n",
       "    <tr>\n",
       "      <th>Id1</th>\n",
       "      <td>8.8</td>\n",
       "      <td>1.3000</td>\n",
       "    </tr>\n",
       "    <tr>\n",
       "      <th>Id2</th>\n",
       "      <td>9.0</td>\n",
       "      <td>2.4000</td>\n",
       "    </tr>\n",
       "    <tr>\n",
       "      <th>Id3</th>\n",
       "      <td>0.0</td>\n",
       "      <td>-3.8000</td>\n",
       "    </tr>\n",
       "    <tr>\n",
       "      <th>Id4</th>\n",
       "      <td>-5.0</td>\n",
       "      <td>0.0001</td>\n",
       "    </tr>\n",
       "    <tr>\n",
       "      <th>Id5</th>\n",
       "      <td>7.0</td>\n",
       "      <td>NaN</td>\n",
       "    </tr>\n",
       "  </tbody>\n",
       "</table>\n",
       "</div>"
      ],
      "text/plain": [
       "COLUMNAS  col_serie2  col_serie4\n",
       "ÍNDICES                         \n",
       "Id1              8.8      1.3000\n",
       "Id2              9.0      2.4000\n",
       "Id3              0.0     -3.8000\n",
       "Id4             -5.0      0.0001\n",
       "Id5              7.0         NaN"
      ]
     },
     "execution_count": 24,
     "metadata": {},
     "output_type": "execute_result"
    }
   ],
   "source": [
    "col2['Id1']=8.8\n",
    "df3"
   ]
  },
  {
   "cell_type": "code",
   "execution_count": 26,
   "id": "437182ba",
   "metadata": {},
   "outputs": [
    {
     "name": "stdout",
     "output_type": "stream",
     "text": [
      "COLUMNAS  col_serie2  col_serie4\n",
      "ÍNDICES                         \n",
      "Id1              8.8      1.3000\n",
      "Id2              9.0      2.4000\n",
      "Id3              0.0     -3.8000\n",
      "Id4             -5.0      0.0001\n",
      "Id5              7.0         NaN\n",
      "ÍNDICES\n",
      "Id1    9.99\n",
      "Id2    9.00\n",
      "Id3    0.00\n",
      "Id4   -5.00\n",
      "Id5    7.00\n",
      "Name: col_serie2, dtype: float64\n"
     ]
    }
   ],
   "source": [
    "col2b = df3['col_serie2'].copy()\n",
    "col2b['Id1']=9.99\n",
    "print(df3)\n",
    "print(col2b)\n"
   ]
  },
  {
   "cell_type": "markdown",
   "id": "dfe1bcf5",
   "metadata": {},
   "source": [
    "Add a new column from a data list, ndarray, tuple\n"
   ]
  },
  {
   "cell_type": "code",
   "execution_count": 27,
   "id": "0ee25255",
   "metadata": {},
   "outputs": [
    {
     "data": {
      "text/html": [
       "<div>\n",
       "<style scoped>\n",
       "    .dataframe tbody tr th:only-of-type {\n",
       "        vertical-align: middle;\n",
       "    }\n",
       "\n",
       "    .dataframe tbody tr th {\n",
       "        vertical-align: top;\n",
       "    }\n",
       "\n",
       "    .dataframe thead th {\n",
       "        text-align: right;\n",
       "    }\n",
       "</style>\n",
       "<table border=\"1\" class=\"dataframe\">\n",
       "  <thead>\n",
       "    <tr style=\"text-align: right;\">\n",
       "      <th>COLUMNAS</th>\n",
       "      <th>col_serie2</th>\n",
       "      <th>col_serie4</th>\n",
       "      <th>col_new</th>\n",
       "    </tr>\n",
       "    <tr>\n",
       "      <th>ÍNDICES</th>\n",
       "      <th></th>\n",
       "      <th></th>\n",
       "      <th></th>\n",
       "    </tr>\n",
       "  </thead>\n",
       "  <tbody>\n",
       "    <tr>\n",
       "      <th>Id1</th>\n",
       "      <td>8.8</td>\n",
       "      <td>1.3000</td>\n",
       "      <td>5.1</td>\n",
       "    </tr>\n",
       "    <tr>\n",
       "      <th>Id2</th>\n",
       "      <td>9.0</td>\n",
       "      <td>2.4000</td>\n",
       "      <td>5.2</td>\n",
       "    </tr>\n",
       "    <tr>\n",
       "      <th>Id3</th>\n",
       "      <td>0.0</td>\n",
       "      <td>-3.8000</td>\n",
       "      <td>5.3</td>\n",
       "    </tr>\n",
       "    <tr>\n",
       "      <th>Id4</th>\n",
       "      <td>-5.0</td>\n",
       "      <td>0.0001</td>\n",
       "      <td>5.4</td>\n",
       "    </tr>\n",
       "    <tr>\n",
       "      <th>Id5</th>\n",
       "      <td>7.0</td>\n",
       "      <td>NaN</td>\n",
       "      <td>5.5</td>\n",
       "    </tr>\n",
       "  </tbody>\n",
       "</table>\n",
       "</div>"
      ],
      "text/plain": [
       "COLUMNAS  col_serie2  col_serie4  col_new\n",
       "ÍNDICES                                  \n",
       "Id1              8.8      1.3000      5.1\n",
       "Id2              9.0      2.4000      5.2\n",
       "Id3              0.0     -3.8000      5.3\n",
       "Id4             -5.0      0.0001      5.4\n",
       "Id5              7.0         NaN      5.5"
      ]
     },
     "execution_count": 27,
     "metadata": {},
     "output_type": "execute_result"
    }
   ],
   "source": [
    "data5list = [5.1, 5.2, 5.3, 5.4, 5.5]\n",
    "# data5tuple = (5.1, 5.2, 5.3, 5.4, 5.5)\n",
    "# data5array = np.array(data5list)\n",
    "\n",
    "df3['col_new']= data5list\n",
    "df3"
   ]
  },
  {
   "cell_type": "markdown",
   "id": "e8c46fe7",
   "metadata": {},
   "source": [
    "Delete a column or a row with the method <b>drop</b> (Drop specified labels from rows or columns).\n",
    "\n",
    "There is also a pandas method for deleting columns: <b>del</b> (<i>del df['col']</i>)\n"
   ]
  },
  {
   "cell_type": "code",
   "execution_count": 31,
   "id": "d58b1d42",
   "metadata": {},
   "outputs": [
    {
     "name": "stdout",
     "output_type": "stream",
     "text": [
      "COLUMNAS  col_serie2  col_serie4  col_new\n",
      "ÍNDICES                                  \n",
      "Id1              8.8      1.3000      5.1\n",
      "Id2              9.0      2.4000      5.2\n",
      "Id3              0.0     -3.8000      5.3\n",
      "Id4             -5.0      0.0001      5.4\n",
      "Id5              7.0         NaN      5.5\n"
     ]
    },
    {
     "data": {
      "text/html": [
       "<div>\n",
       "<style scoped>\n",
       "    .dataframe tbody tr th:only-of-type {\n",
       "        vertical-align: middle;\n",
       "    }\n",
       "\n",
       "    .dataframe tbody tr th {\n",
       "        vertical-align: top;\n",
       "    }\n",
       "\n",
       "    .dataframe thead th {\n",
       "        text-align: right;\n",
       "    }\n",
       "</style>\n",
       "<table border=\"1\" class=\"dataframe\">\n",
       "  <thead>\n",
       "    <tr style=\"text-align: right;\">\n",
       "      <th>COLUMNAS</th>\n",
       "      <th>col_serie2</th>\n",
       "      <th>col_serie4</th>\n",
       "    </tr>\n",
       "    <tr>\n",
       "      <th>ÍNDICES</th>\n",
       "      <th></th>\n",
       "      <th></th>\n",
       "    </tr>\n",
       "  </thead>\n",
       "  <tbody>\n",
       "    <tr>\n",
       "      <th>Id1</th>\n",
       "      <td>8.8</td>\n",
       "      <td>1.3000</td>\n",
       "    </tr>\n",
       "    <tr>\n",
       "      <th>Id2</th>\n",
       "      <td>9.0</td>\n",
       "      <td>2.4000</td>\n",
       "    </tr>\n",
       "    <tr>\n",
       "      <th>Id3</th>\n",
       "      <td>0.0</td>\n",
       "      <td>-3.8000</td>\n",
       "    </tr>\n",
       "    <tr>\n",
       "      <th>Id4</th>\n",
       "      <td>-5.0</td>\n",
       "      <td>0.0001</td>\n",
       "    </tr>\n",
       "    <tr>\n",
       "      <th>Id5</th>\n",
       "      <td>7.0</td>\n",
       "      <td>NaN</td>\n",
       "    </tr>\n",
       "  </tbody>\n",
       "</table>\n",
       "</div>"
      ],
      "text/plain": [
       "COLUMNAS  col_serie2  col_serie4\n",
       "ÍNDICES                         \n",
       "Id1              8.8      1.3000\n",
       "Id2              9.0      2.4000\n",
       "Id3              0.0     -3.8000\n",
       "Id4             -5.0      0.0001\n",
       "Id5              7.0         NaN"
      ]
     },
     "execution_count": 31,
     "metadata": {},
     "output_type": "execute_result"
    }
   ],
   "source": [
    "# df3['col_new'].del()\n",
    "df3b = df3.drop('col_new', axis='columns', inplace=False)\n",
    "print(df3)\n",
    "df3b"
   ]
  },
  {
   "cell_type": "code",
   "execution_count": 32,
   "id": "43a74ae9",
   "metadata": {},
   "outputs": [
    {
     "data": {
      "text/html": [
       "<div>\n",
       "<style scoped>\n",
       "    .dataframe tbody tr th:only-of-type {\n",
       "        vertical-align: middle;\n",
       "    }\n",
       "\n",
       "    .dataframe tbody tr th {\n",
       "        vertical-align: top;\n",
       "    }\n",
       "\n",
       "    .dataframe thead th {\n",
       "        text-align: right;\n",
       "    }\n",
       "</style>\n",
       "<table border=\"1\" class=\"dataframe\">\n",
       "  <thead>\n",
       "    <tr style=\"text-align: right;\">\n",
       "      <th>COLUMNAS</th>\n",
       "      <th>col_serie2</th>\n",
       "      <th>col_serie4</th>\n",
       "      <th>col_new</th>\n",
       "    </tr>\n",
       "    <tr>\n",
       "      <th>ÍNDICES</th>\n",
       "      <th></th>\n",
       "      <th></th>\n",
       "      <th></th>\n",
       "    </tr>\n",
       "  </thead>\n",
       "  <tbody>\n",
       "    <tr>\n",
       "      <th>Id1</th>\n",
       "      <td>8.8</td>\n",
       "      <td>1.3</td>\n",
       "      <td>5.1</td>\n",
       "    </tr>\n",
       "    <tr>\n",
       "      <th>Id2</th>\n",
       "      <td>9.0</td>\n",
       "      <td>2.4</td>\n",
       "      <td>5.2</td>\n",
       "    </tr>\n",
       "    <tr>\n",
       "      <th>Id3</th>\n",
       "      <td>0.0</td>\n",
       "      <td>-3.8</td>\n",
       "      <td>5.3</td>\n",
       "    </tr>\n",
       "    <tr>\n",
       "      <th>Id5</th>\n",
       "      <td>7.0</td>\n",
       "      <td>NaN</td>\n",
       "      <td>5.5</td>\n",
       "    </tr>\n",
       "  </tbody>\n",
       "</table>\n",
       "</div>"
      ],
      "text/plain": [
       "COLUMNAS  col_serie2  col_serie4  col_new\n",
       "ÍNDICES                                  \n",
       "Id1              8.8         1.3      5.1\n",
       "Id2              9.0         2.4      5.2\n",
       "Id3              0.0        -3.8      5.3\n",
       "Id5              7.0         NaN      5.5"
      ]
     },
     "execution_count": 32,
     "metadata": {},
     "output_type": "execute_result"
    }
   ],
   "source": [
    "df3c = df3.drop('Id4', axis=0)\n",
    "df3c"
   ]
  },
  {
   "cell_type": "code",
   "execution_count": 33,
   "id": "6e44ad7a",
   "metadata": {},
   "outputs": [
    {
     "data": {
      "text/html": [
       "<div>\n",
       "<style scoped>\n",
       "    .dataframe tbody tr th:only-of-type {\n",
       "        vertical-align: middle;\n",
       "    }\n",
       "\n",
       "    .dataframe tbody tr th {\n",
       "        vertical-align: top;\n",
       "    }\n",
       "\n",
       "    .dataframe thead th {\n",
       "        text-align: right;\n",
       "    }\n",
       "</style>\n",
       "<table border=\"1\" class=\"dataframe\">\n",
       "  <thead>\n",
       "    <tr style=\"text-align: right;\">\n",
       "      <th>COLUMNAS</th>\n",
       "      <th>col_serie2</th>\n",
       "      <th>col_serie4</th>\n",
       "      <th>col_new</th>\n",
       "    </tr>\n",
       "    <tr>\n",
       "      <th>ÍNDICES</th>\n",
       "      <th></th>\n",
       "      <th></th>\n",
       "      <th></th>\n",
       "    </tr>\n",
       "  </thead>\n",
       "  <tbody>\n",
       "    <tr>\n",
       "      <th>Id1</th>\n",
       "      <td>8.8</td>\n",
       "      <td>1.3000</td>\n",
       "      <td>5.1</td>\n",
       "    </tr>\n",
       "    <tr>\n",
       "      <th>Id2</th>\n",
       "      <td>9.0</td>\n",
       "      <td>2.4000</td>\n",
       "      <td>5.2</td>\n",
       "    </tr>\n",
       "    <tr>\n",
       "      <th>Id3</th>\n",
       "      <td>0.0</td>\n",
       "      <td>-3.8000</td>\n",
       "      <td>5.3</td>\n",
       "    </tr>\n",
       "    <tr>\n",
       "      <th>Id4</th>\n",
       "      <td>-5.0</td>\n",
       "      <td>0.0001</td>\n",
       "      <td>5.4</td>\n",
       "    </tr>\n",
       "    <tr>\n",
       "      <th>Id5</th>\n",
       "      <td>7.0</td>\n",
       "      <td>NaN</td>\n",
       "      <td>5.5</td>\n",
       "    </tr>\n",
       "  </tbody>\n",
       "</table>\n",
       "</div>"
      ],
      "text/plain": [
       "COLUMNAS  col_serie2  col_serie4  col_new\n",
       "ÍNDICES                                  \n",
       "Id1              8.8      1.3000      5.1\n",
       "Id2              9.0      2.4000      5.2\n",
       "Id3              0.0     -3.8000      5.3\n",
       "Id4             -5.0      0.0001      5.4\n",
       "Id5              7.0         NaN      5.5"
      ]
     },
     "execution_count": 33,
     "metadata": {},
     "output_type": "execute_result"
    }
   ],
   "source": [
    "df3d = df3.copy()\n",
    "df3d"
   ]
  },
  {
   "cell_type": "code",
   "execution_count": 34,
   "id": "50fc3e5b",
   "metadata": {},
   "outputs": [
    {
     "data": {
      "text/html": [
       "<div>\n",
       "<style scoped>\n",
       "    .dataframe tbody tr th:only-of-type {\n",
       "        vertical-align: middle;\n",
       "    }\n",
       "\n",
       "    .dataframe tbody tr th {\n",
       "        vertical-align: top;\n",
       "    }\n",
       "\n",
       "    .dataframe thead th {\n",
       "        text-align: right;\n",
       "    }\n",
       "</style>\n",
       "<table border=\"1\" class=\"dataframe\">\n",
       "  <thead>\n",
       "    <tr style=\"text-align: right;\">\n",
       "      <th>COLUMNAS</th>\n",
       "      <th>col_serie2</th>\n",
       "      <th>col_serie4</th>\n",
       "    </tr>\n",
       "    <tr>\n",
       "      <th>ÍNDICES</th>\n",
       "      <th></th>\n",
       "      <th></th>\n",
       "    </tr>\n",
       "  </thead>\n",
       "  <tbody>\n",
       "    <tr>\n",
       "      <th>Id1</th>\n",
       "      <td>8.8</td>\n",
       "      <td>1.3000</td>\n",
       "    </tr>\n",
       "    <tr>\n",
       "      <th>Id2</th>\n",
       "      <td>9.0</td>\n",
       "      <td>2.4000</td>\n",
       "    </tr>\n",
       "    <tr>\n",
       "      <th>Id3</th>\n",
       "      <td>0.0</td>\n",
       "      <td>-3.8000</td>\n",
       "    </tr>\n",
       "    <tr>\n",
       "      <th>Id4</th>\n",
       "      <td>-5.0</td>\n",
       "      <td>0.0001</td>\n",
       "    </tr>\n",
       "    <tr>\n",
       "      <th>Id5</th>\n",
       "      <td>7.0</td>\n",
       "      <td>NaN</td>\n",
       "    </tr>\n",
       "  </tbody>\n",
       "</table>\n",
       "</div>"
      ],
      "text/plain": [
       "COLUMNAS  col_serie2  col_serie4\n",
       "ÍNDICES                         \n",
       "Id1              8.8      1.3000\n",
       "Id2              9.0      2.4000\n",
       "Id3              0.0     -3.8000\n",
       "Id4             -5.0      0.0001\n",
       "Id5              7.0         NaN"
      ]
     },
     "execution_count": 34,
     "metadata": {},
     "output_type": "execute_result"
    }
   ],
   "source": [
    "del df3d['col_new']\n",
    "df3d"
   ]
  },
  {
   "cell_type": "markdown",
   "id": "67087216",
   "metadata": {},
   "source": [
    "<h2>Index objects</h2>\n",
    "pandas’s Index objects are responsible for holding the axis labels and other metadata\n",
    "(like the axis name or names)."
   ]
  },
  {
   "cell_type": "code",
   "execution_count": 35,
   "id": "1dfc1633",
   "metadata": {},
   "outputs": [
    {
     "data": {
      "text/plain": [
       "Index(['Id1', 'Id2', 'Id3', 'Id4', 'Id5'], dtype='object', name='ÍNDICES')"
      ]
     },
     "execution_count": 35,
     "metadata": {},
     "output_type": "execute_result"
    }
   ],
   "source": [
    "indices3 = df3.index\n",
    "indices3"
   ]
  },
  {
   "cell_type": "code",
   "execution_count": 36,
   "id": "46907ac5",
   "metadata": {},
   "outputs": [
    {
     "data": {
      "text/html": [
       "<div>\n",
       "<style scoped>\n",
       "    .dataframe tbody tr th:only-of-type {\n",
       "        vertical-align: middle;\n",
       "    }\n",
       "\n",
       "    .dataframe tbody tr th {\n",
       "        vertical-align: top;\n",
       "    }\n",
       "\n",
       "    .dataframe thead th {\n",
       "        text-align: right;\n",
       "    }\n",
       "</style>\n",
       "<table border=\"1\" class=\"dataframe\">\n",
       "  <thead>\n",
       "    <tr style=\"text-align: right;\">\n",
       "      <th></th>\n",
       "      <th>0</th>\n",
       "      <th>1</th>\n",
       "      <th>2</th>\n",
       "    </tr>\n",
       "    <tr>\n",
       "      <th>ÍNDICES</th>\n",
       "      <th></th>\n",
       "      <th></th>\n",
       "      <th></th>\n",
       "    </tr>\n",
       "  </thead>\n",
       "  <tbody>\n",
       "    <tr>\n",
       "      <th>Id1</th>\n",
       "      <td>8.8</td>\n",
       "      <td>1.3000</td>\n",
       "      <td>5.1</td>\n",
       "    </tr>\n",
       "    <tr>\n",
       "      <th>Id2</th>\n",
       "      <td>9.0</td>\n",
       "      <td>2.4000</td>\n",
       "      <td>5.2</td>\n",
       "    </tr>\n",
       "    <tr>\n",
       "      <th>Id3</th>\n",
       "      <td>0.0</td>\n",
       "      <td>-3.8000</td>\n",
       "      <td>5.3</td>\n",
       "    </tr>\n",
       "    <tr>\n",
       "      <th>Id4</th>\n",
       "      <td>-5.0</td>\n",
       "      <td>0.0001</td>\n",
       "      <td>5.4</td>\n",
       "    </tr>\n",
       "    <tr>\n",
       "      <th>Id5</th>\n",
       "      <td>7.0</td>\n",
       "      <td>NaN</td>\n",
       "      <td>5.5</td>\n",
       "    </tr>\n",
       "  </tbody>\n",
       "</table>\n",
       "</div>"
      ],
      "text/plain": [
       "           0       1    2\n",
       "ÍNDICES                  \n",
       "Id1      8.8  1.3000  5.1\n",
       "Id2      9.0  2.4000  5.2\n",
       "Id3      0.0 -3.8000  5.3\n",
       "Id4     -5.0  0.0001  5.4\n",
       "Id5      7.0     NaN  5.5"
      ]
     },
     "execution_count": 36,
     "metadata": {},
     "output_type": "execute_result"
    }
   ],
   "source": [
    "data3 = df3.values\n",
    "df4 = pd.DataFrame(data3, index=indices3)\n",
    "df4"
   ]
  },
  {
   "cell_type": "code",
   "execution_count": 44,
   "id": "69b0c0ff",
   "metadata": {},
   "outputs": [
    {
     "data": {
      "text/plain": [
       "Index(['col_serie2', 'col_serie4', 'col_new'], dtype='object', name='COLUMNAS')"
      ]
     },
     "execution_count": 44,
     "metadata": {},
     "output_type": "execute_result"
    }
   ],
   "source": [
    "df3.columns"
   ]
  },
  {
   "cell_type": "code",
   "execution_count": 45,
   "id": "09c042eb",
   "metadata": {},
   "outputs": [
    {
     "data": {
      "text/plain": [
       "RangeIndex(start=0, stop=3, step=1)"
      ]
     },
     "execution_count": 45,
     "metadata": {},
     "output_type": "execute_result"
    }
   ],
   "source": [
    "df4.columns"
   ]
  },
  {
   "cell_type": "code",
   "execution_count": 46,
   "id": "71997967",
   "metadata": {},
   "outputs": [
    {
     "data": {
      "text/plain": [
       "Index(['Id1', 'Id2', 'Id3', 'Id4', 'Id5'], dtype='object', name='ÍNDICES')"
      ]
     },
     "execution_count": 46,
     "metadata": {},
     "output_type": "execute_result"
    }
   ],
   "source": [
    "df3.index"
   ]
  },
  {
   "cell_type": "markdown",
   "id": "26ec654c",
   "metadata": {},
   "source": [
    "<b>reindex</b> can alter either the (row) index, columns, or both. When\n",
    "passed only a sequence, it reindexes the rows in the result. The columns can be reindexed with the <i>columns</i> keyword."
   ]
  },
  {
   "cell_type": "code",
   "execution_count": 47,
   "id": "580ef67c",
   "metadata": {},
   "outputs": [
    {
     "data": {
      "text/html": [
       "<div>\n",
       "<style scoped>\n",
       "    .dataframe tbody tr th:only-of-type {\n",
       "        vertical-align: middle;\n",
       "    }\n",
       "\n",
       "    .dataframe tbody tr th {\n",
       "        vertical-align: top;\n",
       "    }\n",
       "\n",
       "    .dataframe thead th {\n",
       "        text-align: right;\n",
       "    }\n",
       "</style>\n",
       "<table border=\"1\" class=\"dataframe\">\n",
       "  <thead>\n",
       "    <tr style=\"text-align: right;\">\n",
       "      <th>COLUMNAS</th>\n",
       "      <th>col_serie4</th>\n",
       "      <th>col_serie2</th>\n",
       "    </tr>\n",
       "    <tr>\n",
       "      <th>ÍNDICES</th>\n",
       "      <th></th>\n",
       "      <th></th>\n",
       "    </tr>\n",
       "  </thead>\n",
       "  <tbody>\n",
       "    <tr>\n",
       "      <th>Id1</th>\n",
       "      <td>1.3000</td>\n",
       "      <td>8.8</td>\n",
       "    </tr>\n",
       "    <tr>\n",
       "      <th>Id2</th>\n",
       "      <td>2.4000</td>\n",
       "      <td>9.0</td>\n",
       "    </tr>\n",
       "    <tr>\n",
       "      <th>Id3</th>\n",
       "      <td>-3.8000</td>\n",
       "      <td>0.0</td>\n",
       "    </tr>\n",
       "    <tr>\n",
       "      <th>Id5</th>\n",
       "      <td>NaN</td>\n",
       "      <td>7.0</td>\n",
       "    </tr>\n",
       "    <tr>\n",
       "      <th>Id4</th>\n",
       "      <td>0.0001</td>\n",
       "      <td>-5.0</td>\n",
       "    </tr>\n",
       "    <tr>\n",
       "      <th>Id6</th>\n",
       "      <td>NaN</td>\n",
       "      <td>NaN</td>\n",
       "    </tr>\n",
       "  </tbody>\n",
       "</table>\n",
       "</div>"
      ],
      "text/plain": [
       "COLUMNAS  col_serie4  col_serie2\n",
       "ÍNDICES                         \n",
       "Id1           1.3000         8.8\n",
       "Id2           2.4000         9.0\n",
       "Id3          -3.8000         0.0\n",
       "Id5              NaN         7.0\n",
       "Id4           0.0001        -5.0\n",
       "Id6              NaN         NaN"
      ]
     },
     "execution_count": 47,
     "metadata": {},
     "output_type": "execute_result"
    }
   ],
   "source": [
    "df3e = df3.reindex(columns=['col_serie4','col_serie2'])\n",
    "df3f = df3e.reindex(['Id1','Id2','Id3','Id5','Id4','Id6'])\n",
    "df3f"
   ]
  },
  {
   "cell_type": "markdown",
   "id": "1cc37dc3",
   "metadata": {},
   "source": [
    "<h3>Dropping entries</h3>\n",
    "\n",
    "<b>drop</b> method will return a new object with the indicated value or values deleted from\n",
    "an axis."
   ]
  },
  {
   "cell_type": "code",
   "execution_count": 48,
   "id": "bb89c164",
   "metadata": {},
   "outputs": [
    {
     "data": {
      "text/html": [
       "<div>\n",
       "<style scoped>\n",
       "    .dataframe tbody tr th:only-of-type {\n",
       "        vertical-align: middle;\n",
       "    }\n",
       "\n",
       "    .dataframe tbody tr th {\n",
       "        vertical-align: top;\n",
       "    }\n",
       "\n",
       "    .dataframe thead th {\n",
       "        text-align: right;\n",
       "    }\n",
       "</style>\n",
       "<table border=\"1\" class=\"dataframe\">\n",
       "  <thead>\n",
       "    <tr style=\"text-align: right;\">\n",
       "      <th>COLUMNAS</th>\n",
       "      <th>col_serie4</th>\n",
       "      <th>col_serie2</th>\n",
       "    </tr>\n",
       "    <tr>\n",
       "      <th>ÍNDICES</th>\n",
       "      <th></th>\n",
       "      <th></th>\n",
       "    </tr>\n",
       "  </thead>\n",
       "  <tbody>\n",
       "    <tr>\n",
       "      <th>Id1</th>\n",
       "      <td>1.3000</td>\n",
       "      <td>8.8</td>\n",
       "    </tr>\n",
       "    <tr>\n",
       "      <th>Id2</th>\n",
       "      <td>2.4000</td>\n",
       "      <td>9.0</td>\n",
       "    </tr>\n",
       "    <tr>\n",
       "      <th>Id3</th>\n",
       "      <td>-3.8000</td>\n",
       "      <td>0.0</td>\n",
       "    </tr>\n",
       "    <tr>\n",
       "      <th>Id5</th>\n",
       "      <td>NaN</td>\n",
       "      <td>7.0</td>\n",
       "    </tr>\n",
       "    <tr>\n",
       "      <th>Id4</th>\n",
       "      <td>0.0001</td>\n",
       "      <td>-5.0</td>\n",
       "    </tr>\n",
       "  </tbody>\n",
       "</table>\n",
       "</div>"
      ],
      "text/plain": [
       "COLUMNAS  col_serie4  col_serie2\n",
       "ÍNDICES                         \n",
       "Id1           1.3000         8.8\n",
       "Id2           2.4000         9.0\n",
       "Id3          -3.8000         0.0\n",
       "Id5              NaN         7.0\n",
       "Id4           0.0001        -5.0"
      ]
     },
     "execution_count": 48,
     "metadata": {},
     "output_type": "execute_result"
    }
   ],
   "source": [
    "df3f.drop('Id6',axis=0, inplace=True)\n",
    "df3f"
   ]
  },
  {
   "cell_type": "code",
   "execution_count": 49,
   "id": "7119af46",
   "metadata": {},
   "outputs": [
    {
     "data": {
      "text/html": [
       "<div>\n",
       "<style scoped>\n",
       "    .dataframe tbody tr th:only-of-type {\n",
       "        vertical-align: middle;\n",
       "    }\n",
       "\n",
       "    .dataframe tbody tr th {\n",
       "        vertical-align: top;\n",
       "    }\n",
       "\n",
       "    .dataframe thead th {\n",
       "        text-align: right;\n",
       "    }\n",
       "</style>\n",
       "<table border=\"1\" class=\"dataframe\">\n",
       "  <thead>\n",
       "    <tr style=\"text-align: right;\">\n",
       "      <th>COLUMNAS</th>\n",
       "      <th>col_serie2</th>\n",
       "      <th>col_serie4</th>\n",
       "      <th>col_new</th>\n",
       "    </tr>\n",
       "    <tr>\n",
       "      <th>ÍNDICES</th>\n",
       "      <th></th>\n",
       "      <th></th>\n",
       "      <th></th>\n",
       "    </tr>\n",
       "  </thead>\n",
       "  <tbody>\n",
       "    <tr>\n",
       "      <th>Id1</th>\n",
       "      <td>8.8</td>\n",
       "      <td>1.3000</td>\n",
       "      <td>5.1</td>\n",
       "    </tr>\n",
       "    <tr>\n",
       "      <th>Id2</th>\n",
       "      <td>9.0</td>\n",
       "      <td>2.4000</td>\n",
       "      <td>5.2</td>\n",
       "    </tr>\n",
       "    <tr>\n",
       "      <th>Id3</th>\n",
       "      <td>0.0</td>\n",
       "      <td>-3.8000</td>\n",
       "      <td>5.3</td>\n",
       "    </tr>\n",
       "    <tr>\n",
       "      <th>Id4</th>\n",
       "      <td>-5.0</td>\n",
       "      <td>0.0001</td>\n",
       "      <td>5.4</td>\n",
       "    </tr>\n",
       "    <tr>\n",
       "      <th>Id5</th>\n",
       "      <td>7.0</td>\n",
       "      <td>NaN</td>\n",
       "      <td>5.5</td>\n",
       "    </tr>\n",
       "  </tbody>\n",
       "</table>\n",
       "</div>"
      ],
      "text/plain": [
       "COLUMNAS  col_serie2  col_serie4  col_new\n",
       "ÍNDICES                                  \n",
       "Id1              8.8      1.3000      5.1\n",
       "Id2              9.0      2.4000      5.2\n",
       "Id3              0.0     -3.8000      5.3\n",
       "Id4             -5.0      0.0001      5.4\n",
       "Id5              7.0         NaN      5.5"
      ]
     },
     "execution_count": 49,
     "metadata": {},
     "output_type": "execute_result"
    }
   ],
   "source": [
    "df3"
   ]
  },
  {
   "cell_type": "code",
   "execution_count": 50,
   "id": "afe331d6",
   "metadata": {},
   "outputs": [
    {
     "data": {
      "text/html": [
       "<div>\n",
       "<style scoped>\n",
       "    .dataframe tbody tr th:only-of-type {\n",
       "        vertical-align: middle;\n",
       "    }\n",
       "\n",
       "    .dataframe tbody tr th {\n",
       "        vertical-align: top;\n",
       "    }\n",
       "\n",
       "    .dataframe thead th {\n",
       "        text-align: right;\n",
       "    }\n",
       "</style>\n",
       "<table border=\"1\" class=\"dataframe\">\n",
       "  <thead>\n",
       "    <tr style=\"text-align: right;\">\n",
       "      <th>COLUMNAS</th>\n",
       "      <th>col_new</th>\n",
       "      <th>col_serie4</th>\n",
       "      <th>col_serie2</th>\n",
       "    </tr>\n",
       "    <tr>\n",
       "      <th>ÍNDICES</th>\n",
       "      <th></th>\n",
       "      <th></th>\n",
       "      <th></th>\n",
       "    </tr>\n",
       "  </thead>\n",
       "  <tbody>\n",
       "    <tr>\n",
       "      <th>Id1</th>\n",
       "      <td>5.1</td>\n",
       "      <td>1.3000</td>\n",
       "      <td>8.8</td>\n",
       "    </tr>\n",
       "    <tr>\n",
       "      <th>Id2</th>\n",
       "      <td>5.2</td>\n",
       "      <td>2.4000</td>\n",
       "      <td>9.0</td>\n",
       "    </tr>\n",
       "    <tr>\n",
       "      <th>Id3</th>\n",
       "      <td>5.3</td>\n",
       "      <td>-3.8000</td>\n",
       "      <td>0.0</td>\n",
       "    </tr>\n",
       "    <tr>\n",
       "      <th>Id4</th>\n",
       "      <td>5.4</td>\n",
       "      <td>0.0001</td>\n",
       "      <td>-5.0</td>\n",
       "    </tr>\n",
       "    <tr>\n",
       "      <th>Id5</th>\n",
       "      <td>5.5</td>\n",
       "      <td>NaN</td>\n",
       "      <td>7.0</td>\n",
       "    </tr>\n",
       "  </tbody>\n",
       "</table>\n",
       "</div>"
      ],
      "text/plain": [
       "COLUMNAS  col_new  col_serie4  col_serie2\n",
       "ÍNDICES                                  \n",
       "Id1           5.1      1.3000         8.8\n",
       "Id2           5.2      2.4000         9.0\n",
       "Id3           5.3     -3.8000         0.0\n",
       "Id4           5.4      0.0001        -5.0\n",
       "Id5           5.5         NaN         7.0"
      ]
     },
     "execution_count": 50,
     "metadata": {},
     "output_type": "execute_result"
    }
   ],
   "source": [
    "df3g = df3.reindex(columns=['col_new','col_serie4','col_serie2'])\n",
    "df3g\n"
   ]
  },
  {
   "cell_type": "code",
   "execution_count": 51,
   "id": "44b895e5",
   "metadata": {},
   "outputs": [
    {
     "data": {
      "text/html": [
       "<div>\n",
       "<style scoped>\n",
       "    .dataframe tbody tr th:only-of-type {\n",
       "        vertical-align: middle;\n",
       "    }\n",
       "\n",
       "    .dataframe tbody tr th {\n",
       "        vertical-align: top;\n",
       "    }\n",
       "\n",
       "    .dataframe thead th {\n",
       "        text-align: right;\n",
       "    }\n",
       "</style>\n",
       "<table border=\"1\" class=\"dataframe\">\n",
       "  <thead>\n",
       "    <tr style=\"text-align: right;\">\n",
       "      <th>COLUMNAS</th>\n",
       "      <th>col_serie2</th>\n",
       "      <th>col_serie4</th>\n",
       "    </tr>\n",
       "    <tr>\n",
       "      <th>ÍNDICES</th>\n",
       "      <th></th>\n",
       "      <th></th>\n",
       "    </tr>\n",
       "  </thead>\n",
       "  <tbody>\n",
       "    <tr>\n",
       "      <th>Id1</th>\n",
       "      <td>8.8</td>\n",
       "      <td>1.3000</td>\n",
       "    </tr>\n",
       "    <tr>\n",
       "      <th>Id2</th>\n",
       "      <td>9.0</td>\n",
       "      <td>2.4000</td>\n",
       "    </tr>\n",
       "    <tr>\n",
       "      <th>Id3</th>\n",
       "      <td>0.0</td>\n",
       "      <td>-3.8000</td>\n",
       "    </tr>\n",
       "    <tr>\n",
       "      <th>Id4</th>\n",
       "      <td>-5.0</td>\n",
       "      <td>0.0001</td>\n",
       "    </tr>\n",
       "    <tr>\n",
       "      <th>Id5</th>\n",
       "      <td>7.0</td>\n",
       "      <td>NaN</td>\n",
       "    </tr>\n",
       "  </tbody>\n",
       "</table>\n",
       "</div>"
      ],
      "text/plain": [
       "COLUMNAS  col_serie2  col_serie4\n",
       "ÍNDICES                         \n",
       "Id1              8.8      1.3000\n",
       "Id2              9.0      2.4000\n",
       "Id3              0.0     -3.8000\n",
       "Id4             -5.0      0.0001\n",
       "Id5              7.0         NaN"
      ]
     },
     "execution_count": 51,
     "metadata": {},
     "output_type": "execute_result"
    }
   ],
   "source": [
    "df3h = df3g[['col_serie2','col_serie4']]\n",
    "df3h"
   ]
  },
  {
   "cell_type": "code",
   "execution_count": null,
   "id": "e37898f5",
   "metadata": {},
   "outputs": [],
   "source": []
  },
  {
   "cell_type": "markdown",
   "id": "07c25b27",
   "metadata": {},
   "source": [
    "<h3> Indexing </h3>\n",
    "\n",
    "<b> loc </b> and <b>iloc</b>"
   ]
  },
  {
   "cell_type": "code",
   "execution_count": null,
   "id": "741ab0f3",
   "metadata": {},
   "outputs": [],
   "source": []
  },
  {
   "cell_type": "code",
   "execution_count": null,
   "id": "f73ee15a",
   "metadata": {},
   "outputs": [],
   "source": []
  },
  {
   "cell_type": "code",
   "execution_count": null,
   "id": "9c2b5964",
   "metadata": {},
   "outputs": [],
   "source": []
  },
  {
   "cell_type": "markdown",
   "id": "c46ae00d",
   "metadata": {},
   "source": [
    "<h3> Reading data file </h3>\n",
    "\n",
    "<b> read_csv </b> and <b>read_excel</b>"
   ]
  },
  {
   "cell_type": "code",
   "execution_count": null,
   "id": "068b0c58",
   "metadata": {},
   "outputs": [],
   "source": [
    "\n",
    "# Leer el archivo en línea desde la URL de arriba y asignarla a la variable \"df\"\n",
    "other_path = \"https://s3-api.us-geo.objectstorage.softlayer.net/cf-courses-data/CognitiveClass/DA0101EN/auto.csv\"\n",
    "df = pd.read_csv(other_path, header=None)"
   ]
  },
  {
   "cell_type": "code",
   "execution_count": null,
   "id": "2291e5aa",
   "metadata": {},
   "outputs": [],
   "source": [
    "# Veamos el tipo de objeto que hemos creado\n",
    "type(df)"
   ]
  },
  {
   "cell_type": "markdown",
   "id": "43a3fd50",
   "metadata": {},
   "source": [
    "Después de leer el conjunto de datos podemos utilizar el método <code>dataframe.head(n)</code> para revisar las primeras n filas del dataframe; donde n es un entero. Al contrario de <code>dataframe.head(n)</code>, <code>dataframe.tail(n)</code> mostrará las n filas del final del dataframe."
   ]
  },
  {
   "cell_type": "code",
   "execution_count": null,
   "id": "e56382cc",
   "metadata": {},
   "outputs": [],
   "source": [
    "df.head(5)"
   ]
  },
  {
   "cell_type": "code",
   "execution_count": null,
   "id": "9ad83cd5",
   "metadata": {},
   "outputs": [],
   "source": [
    "df.tail(5)"
   ]
  },
  {
   "cell_type": "markdown",
   "id": "f4869207",
   "metadata": {},
   "source": [
    "For users of the R language for statistical computing, the DataFrame name will be\n",
    "familiar, as the object was named after the similar R data.frame object. Unlike\n",
    "Python, data frames are built into the R programming language and its standard\n",
    "library. As a result, many features found in pandas are typically either part of the R\n",
    "core implementation or provided by add-on packages."
   ]
  },
  {
   "cell_type": "code",
   "execution_count": null,
   "id": "84d6e1fe",
   "metadata": {},
   "outputs": [],
   "source": []
  },
  {
   "cell_type": "markdown",
   "id": "c34c09d5",
   "metadata": {},
   "source": [
    "<h2> Ejercicios </h2>"
   ]
  },
  {
   "cell_type": "markdown",
   "id": "2426fe47",
   "metadata": {},
   "source": [
    "\n",
    "<ol>\n",
    "    <li> Lee un archivo excel y cambiales elnombre de las columnas por 'col1', 'col2', etc. </li>\n",
    "    <li> Cámbiale el nombre a los índices por 'Id1', 'Id2', etc.</li>\n",
    "</ol>"
   ]
  },
  {
   "cell_type": "code",
   "execution_count": null,
   "id": "713e37ab",
   "metadata": {},
   "outputs": [],
   "source": []
  },
  {
   "cell_type": "code",
   "execution_count": null,
   "id": "d72c36f4",
   "metadata": {},
   "outputs": [],
   "source": []
  }
 ],
 "metadata": {
  "kernelspec": {
   "display_name": "Python 3",
   "language": "python",
   "name": "python3"
  },
  "language_info": {
   "codemirror_mode": {
    "name": "ipython",
    "version": 3
   },
   "file_extension": ".py",
   "mimetype": "text/x-python",
   "name": "python",
   "nbconvert_exporter": "python",
   "pygments_lexer": "ipython3",
   "version": "3.8.5"
  }
 },
 "nbformat": 4,
 "nbformat_minor": 5
}
